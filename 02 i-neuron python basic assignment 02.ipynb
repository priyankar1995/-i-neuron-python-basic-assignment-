{
 "cells": [
  {
   "cell_type": "markdown",
   "id": "8c255187",
   "metadata": {},
   "source": [
    "### 1.What are the two values of the Boolean data type? How do you write them?"
   ]
  },
  {
   "cell_type": "markdown",
   "id": "6c9781bd",
   "metadata": {},
   "source": [
    "### Answer:\n",
    "the two values of boolean data type are \n",
    "1>true , 2>false\n",
    "\n",
    "in python we write them with the first letter uppercase 1>False , 2>True\n"
   ]
  },
  {
   "cell_type": "markdown",
   "id": "8d55d76b",
   "metadata": {},
   "source": [
    "### 2. What are the three different types of Boolean operators?"
   ]
  },
  {
   "cell_type": "markdown",
   "id": "7dfbb29c",
   "metadata": {},
   "source": [
    "### Answer:\n",
    "the three different Boolean operators are \n",
    "1> AND , 2> OR , 3> NOT\n"
   ]
  },
  {
   "cell_type": "markdown",
   "id": "e42b8110",
   "metadata": {},
   "source": [
    "### 3. Make a list of each Boolean operator's truth tables (i.e. every possible combination of Boolean values for the operator and what it evaluate )."
   ]
  },
  {
   "cell_type": "markdown",
   "id": "4b7a5134",
   "metadata": {},
   "source": [
    "### Answer:\n",
    "\n",
    "Two Boolean Values are True and False\n",
    "\n",
    "\n",
    "First Boolean Operator\n",
    "\n",
    "\n",
    "1. AND\n",
    "\n",
    "\n",
    " False AND False = False\n",
    " \n",
    " False AND True = False\n",
    " \n",
    " True AND False = False\n",
    " \n",
    " True AND True = True\n",
    "\n",
    "\n",
    "2. OR\n",
    "\n",
    "\n",
    " False OR False = False\n",
    " \n",
    " False OR True = True\n",
    " \n",
    " True OR False = True\n",
    " \n",
    " True OR True = True\n",
    " \n",
    " \n",
    "3. NOT\n",
    "\n",
    "\n",
    "NOT True = False\n",
    "\n",
    "NOT False = True"
   ]
  },
  {
   "cell_type": "markdown",
   "id": "ed0c923f",
   "metadata": {},
   "source": [
    "### 4. What are the values of the following expressions?"
   ]
  },
  {
   "cell_type": "markdown",
   "id": "f940d6bb",
   "metadata": {},
   "source": [
    "### Answer:"
   ]
  },
  {
   "cell_type": "markdown",
   "id": "8584725b",
   "metadata": {},
   "source": [
    "#### (5 > 4) and (3 == 5)"
   ]
  },
  {
   "cell_type": "markdown",
   "id": "c4f2f123",
   "metadata": {},
   "source": [
    "False"
   ]
  },
  {
   "cell_type": "markdown",
   "id": "8e599f89",
   "metadata": {},
   "source": [
    "#### not (5 > 4)"
   ]
  },
  {
   "cell_type": "markdown",
   "id": "cd210968",
   "metadata": {},
   "source": [
    "False"
   ]
  },
  {
   "cell_type": "markdown",
   "id": "12e31789",
   "metadata": {},
   "source": [
    "#### (5 > 4) or (3 == 5)"
   ]
  },
  {
   "cell_type": "markdown",
   "id": "3577ef37",
   "metadata": {},
   "source": [
    "True"
   ]
  },
  {
   "cell_type": "markdown",
   "id": "1e044f85",
   "metadata": {},
   "source": [
    "#### not ((5 > 4) or (3 == 5))"
   ]
  },
  {
   "cell_type": "markdown",
   "id": "1385a641",
   "metadata": {},
   "source": [
    "False"
   ]
  },
  {
   "cell_type": "markdown",
   "id": "63d5ed1f",
   "metadata": {},
   "source": [
    "#### (True and True) and (True == False)"
   ]
  },
  {
   "cell_type": "markdown",
   "id": "7711bf74",
   "metadata": {},
   "source": [
    "False"
   ]
  },
  {
   "cell_type": "markdown",
   "id": "5cf7d388",
   "metadata": {},
   "source": [
    "#### (not False) or (not True)"
   ]
  },
  {
   "cell_type": "markdown",
   "id": "c5824907",
   "metadata": {},
   "source": [
    "True"
   ]
  },
  {
   "cell_type": "markdown",
   "id": "22d3f569",
   "metadata": {},
   "source": [
    "### 5. What are the six comparison operators?"
   ]
  },
  {
   "cell_type": "markdown",
   "id": "171a7bc4",
   "metadata": {},
   "source": [
    "### Answer:\n",
    "the six comparison operators\n",
    "\n",
    "(double equal to)  == \n",
    "\n",
    " (greater than)    > \n",
    "\n",
    " (lesser than)     < \n",
    "\n",
    "(greater equal to) >=\n",
    "\n",
    "(lesser equal to)  <= \n",
    "\n",
    "(not equal to)     != \n"
   ]
  },
  {
   "cell_type": "markdown",
   "id": "f6d93c8f",
   "metadata": {},
   "source": [
    "### 6. How do you tell the difference between the equal to and assignment operators?Describe a condition and when you would use one."
   ]
  },
  {
   "cell_type": "markdown",
   "id": "e20ca28c",
   "metadata": {},
   "source": [
    "### Answer:\n",
    "equal to operator is a double equal to sign (==)\n",
    "\n",
    "assignment operator is a single equal to sign(=)\n",
    "\n",
    "a==10 \n",
    "\n",
    "this statement checks whether the value of a is 10 or not\n",
    "\n",
    "a=10 \n",
    "\n",
    "this statement assisgns the value of 10 to the variable a\n",
    "\n",
    "so when we need to store a value inside a variable we will use assignment operator\n",
    "and when we need to check whether a variable has a certain value "
   ]
  },
  {
   "cell_type": "markdown",
   "id": "aea3a246",
   "metadata": {},
   "source": [
    "### 7. Identify the three blocks in this code:"
   ]
  },
  {
   "cell_type": "markdown",
   "id": "bff3812b",
   "metadata": {},
   "source": [
    "spam = 0\n",
    "\n",
    "if spam == 10:\n",
    "\n",
    "print('eggs')\n",
    "\n",
    "if spam > 5:\n",
    "\n",
    "print('bacon')\n",
    "\n",
    "else:\n",
    "\n",
    "print('ham')\n",
    "\n",
    "print('spam')\n",
    "\n",
    "print('spam')"
   ]
  },
  {
   "cell_type": "markdown",
   "id": "f1641040",
   "metadata": {},
   "source": [
    "### Answer:\n",
    "spam = 0\n",
    "\n",
    "#### first block\n",
    "if spam == 10: \n",
    "  print('eggs')\n",
    "\n",
    "#### second block\n",
    "if spam > 5:\n",
    "  print('bacon')\n",
    "\n",
    "#### third block\n",
    "else:\n",
    "  print('ham')\n",
    "  print('spam')\n",
    "  print('spam')"
   ]
  },
  {
   "cell_type": "markdown",
   "id": "91bfbf10",
   "metadata": {},
   "source": [
    "### 8. Write code that prints Hello if 1 is stored in spam, prints Howdy if 2 is stored in spam, and prints Greetings! if anything else is stored in spam."
   ]
  },
  {
   "cell_type": "markdown",
   "id": "120ce6dd",
   "metadata": {},
   "source": [
    "### Answer:"
   ]
  },
  {
   "cell_type": "code",
   "execution_count": 2,
   "id": "c0481c9b",
   "metadata": {},
   "outputs": [
    {
     "name": "stdout",
     "output_type": "stream",
     "text": [
      "press 1 or 2 or something else:1\n",
      "Hello\n"
     ]
    }
   ],
   "source": [
    "# the input is user defined . please run the cell and give the input\n",
    "\n",
    "spam = int(input(\"press 1 or 2 or something else:\"))\n",
    "if spam == 1:\n",
    "    print(\"Hello\")\n",
    "elif spam == 2:\n",
    "    print(\"Howdy\")\n",
    "else:\n",
    "    print(\"Greetings!\")"
   ]
  },
  {
   "cell_type": "markdown",
   "id": "f5cda47e",
   "metadata": {},
   "source": [
    "### 9.If your programme is stuck in an endless loop, what keys you’ll press?"
   ]
  },
  {
   "cell_type": "markdown",
   "id": "61eff89d",
   "metadata": {},
   "source": [
    "### Answer:\n",
    "i will press double i to interrupt the kernel for jupyter notebook"
   ]
  },
  {
   "cell_type": "markdown",
   "id": "2f0e8b79",
   "metadata": {},
   "source": [
    "### 10. How can you tell the difference between break and continue?"
   ]
  },
  {
   "cell_type": "markdown",
   "id": "e3513a49",
   "metadata": {},
   "source": [
    "### Answer:\n",
    "break and continue are two different statement which can be used in any of the loops i.e for, while, do-while \n",
    "both of these statesments must be written with conditional if else structures, in order to function properly\n",
    "\n",
    "break statement helps us to terminate loop iteration and exit a running loop as per our requirement\n",
    "\n",
    "continue statement helps us to continue loop iteration if a targetted output is acquired and we want some other output \n",
    "based on other conditions  "
   ]
  },
  {
   "cell_type": "markdown",
   "id": "01d82420",
   "metadata": {},
   "source": [
    "### 11. In a for loop, what is the difference between range(10), range(0, 10), and range(0, 10, 1)?"
   ]
  },
  {
   "cell_type": "markdown",
   "id": "4c64be9c",
   "metadata": {},
   "source": [
    "### Answer:\n",
    "in a for loop \n",
    "\n",
    "range(10) creates a number sequence from 0 to 9 \n",
    "\n",
    "range(0,10) creates a number sequence from 0 to 9\n",
    "\n",
    "range(0,10,1) creates a number sequence from 0 to 9 with a interval of 1\n",
    "\n",
    "basically there is no difference among above three statements . All of them generates similar output\n",
    "which is [0, 1, 2, 3, 4, 5, 6, 7, 8, 9]"
   ]
  },
  {
   "cell_type": "markdown",
   "id": "7d006060",
   "metadata": {},
   "source": [
    "### 12. Write a short program that prints the numbers 1 to 10 using a for loop. Then write an equivalent program that prints the numbers 1 to 10 using a while loop."
   ]
  },
  {
   "cell_type": "markdown",
   "id": "de2da08b",
   "metadata": {},
   "source": [
    "### Answer:"
   ]
  },
  {
   "cell_type": "code",
   "execution_count": 4,
   "id": "7d8f0081",
   "metadata": {},
   "outputs": [
    {
     "name": "stdout",
     "output_type": "stream",
     "text": [
      "1\n",
      "2\n",
      "3\n",
      "4\n",
      "5\n",
      "6\n",
      "7\n",
      "8\n",
      "9\n",
      "10\n"
     ]
    }
   ],
   "source": [
    "# using for loop\n",
    "\n",
    "for i in range(1,11):\n",
    "    print(i)"
   ]
  },
  {
   "cell_type": "code",
   "execution_count": 5,
   "id": "4be634c9",
   "metadata": {},
   "outputs": [
    {
     "name": "stdout",
     "output_type": "stream",
     "text": [
      "1\n",
      "2\n",
      "3\n",
      "4\n",
      "5\n",
      "6\n",
      "7\n",
      "8\n",
      "9\n",
      "10\n"
     ]
    }
   ],
   "source": [
    "# using while loop\n",
    "\n",
    "i = 1\n",
    "\n",
    "while i<=10:\n",
    "    print(i)\n",
    "    i+=1"
   ]
  },
  {
   "cell_type": "markdown",
   "id": "5e7fe2ed",
   "metadata": {},
   "source": [
    "### 13. If you had a function named bacon() inside a module named spam, how would you call it after importing spam?"
   ]
  },
  {
   "cell_type": "markdown",
   "id": "f0911ba4",
   "metadata": {},
   "source": [
    "### Answer:\n",
    "we have to write\n",
    "\n",
    "from spam import bacon"
   ]
  }
 ],
 "metadata": {
  "kernelspec": {
   "display_name": "Python 3",
   "language": "python",
   "name": "python3"
  },
  "language_info": {
   "codemirror_mode": {
    "name": "ipython",
    "version": 3
   },
   "file_extension": ".py",
   "mimetype": "text/x-python",
   "name": "python",
   "nbconvert_exporter": "python",
   "pygments_lexer": "ipython3",
   "version": "3.8.8"
  }
 },
 "nbformat": 4,
 "nbformat_minor": 5
}
