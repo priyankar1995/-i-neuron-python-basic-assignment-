{
 "cells": [
  {
   "cell_type": "markdown",
   "id": "79b21904",
   "metadata": {},
   "source": [
    "### 1. Add the current date to the text file today.txt as a string."
   ]
  },
  {
   "cell_type": "markdown",
   "id": "5e703f91",
   "metadata": {},
   "source": [
    "### Answer:"
   ]
  },
  {
   "cell_type": "code",
   "execution_count": 1,
   "id": "80163bd6",
   "metadata": {},
   "outputs": [
    {
     "data": {
      "text/plain": [
       "'2022-03-17'"
      ]
     },
     "execution_count": 1,
     "metadata": {},
     "output_type": "execute_result"
    }
   ],
   "source": [
    "import datetime\n",
    "from datetime import date\n",
    "now = date.today()\n",
    "cur_date = now.isoformat()\n",
    "cur_date"
   ]
  },
  {
   "cell_type": "code",
   "execution_count": 2,
   "id": "f6eef615",
   "metadata": {},
   "outputs": [],
   "source": [
    "with open('today.txt','w') as file:\n",
    "    file.write(cur_date)"
   ]
  },
  {
   "cell_type": "markdown",
   "id": "8390e289",
   "metadata": {},
   "source": [
    "### 2. Read the text file today.txt into the string today_string"
   ]
  },
  {
   "cell_type": "markdown",
   "id": "15363e08",
   "metadata": {},
   "source": [
    "### Answer:"
   ]
  },
  {
   "cell_type": "code",
   "execution_count": 3,
   "id": "f116392c",
   "metadata": {},
   "outputs": [
    {
     "data": {
      "text/plain": [
       "'2022-03-17'"
      ]
     },
     "execution_count": 3,
     "metadata": {},
     "output_type": "execute_result"
    }
   ],
   "source": [
    "with open('today.txt','r') as file:\n",
    "    today_string = file.read()\n",
    "today_string"
   ]
  },
  {
   "cell_type": "markdown",
   "id": "71e1aaa7",
   "metadata": {},
   "source": [
    "### 3. Parse the date from today_string."
   ]
  },
  {
   "cell_type": "markdown",
   "id": "82d432ba",
   "metadata": {},
   "source": [
    "### Answer:"
   ]
  },
  {
   "cell_type": "code",
   "execution_count": 4,
   "id": "1b2da5a2",
   "metadata": {},
   "outputs": [
    {
     "data": {
      "text/plain": [
       "datetime.datetime(2022, 3, 17, 0, 0)"
      ]
     },
     "execution_count": 4,
     "metadata": {},
     "output_type": "execute_result"
    }
   ],
   "source": [
    "from datetime import datetime\n",
    "format = '%Y-%m-%d'\n",
    "datetime.strptime(today_string,format)"
   ]
  },
  {
   "cell_type": "markdown",
   "id": "9c4fcd5c",
   "metadata": {},
   "source": [
    "### 4. List the files in your current directory"
   ]
  },
  {
   "cell_type": "markdown",
   "id": "d8621f39",
   "metadata": {},
   "source": [
    "### Answer:"
   ]
  },
  {
   "cell_type": "code",
   "execution_count": 5,
   "id": "f2b17f93",
   "metadata": {},
   "outputs": [
    {
     "data": {
      "text/plain": [
       "['.ipynb_checkpoints',\n",
       " '01 i-neuron python basic assignment 01.ipynb',\n",
       " '02 i-neuron python basic assignment 02.ipynb',\n",
       " '03 i-neuron python basic assignment 03.ipynb',\n",
       " '04 i-neuron python basic assignment 04.ipynb',\n",
       " '05 i-neuron python basic assignment 05.ipynb',\n",
       " '06 i-neuron python basic assignment 06.ipynb',\n",
       " '07 i-neuron python basic assignment 07 Regular Expression.ipynb',\n",
       " '08 i-neuron python basic assignment 08 PyinputPlus.ipynb',\n",
       " '09 i-neuron python basic assignment 09 file handling.ipynb',\n",
       " '10 i-neuron python basic assignment 10.ipynb',\n",
       " '11 i-neuron python basic assignment 11.ipynb',\n",
       " '12 i-neuron python basic assignment 12.ipynb',\n",
       " '13 i-neuron python basic assignment 13.ipynb',\n",
       " '14 i-neuron python basic assignment 14.ipynb',\n",
       " '15 i-neuron python basic assignment 15.ipynb',\n",
       " '16 i-neuron python basic assignment 16.ipynb',\n",
       " '17 i-neuron python basic assignment 17.ipynb',\n",
       " '18 i-neuron python basic assignment 18.ipynb',\n",
       " '19 i-neuron python basic assignment 19.ipynb',\n",
       " '20 i-neuron python basic assignment 20.ipynb',\n",
       " '21 i-neuron python basic assignment 21.ipynb',\n",
       " 'books.csv',\n",
       " 'books.db',\n",
       " 'test.txt',\n",
       " 'today.txt',\n",
       " 'zoo.ipynb',\n",
       " 'zoo.py']"
      ]
     },
     "execution_count": 5,
     "metadata": {},
     "output_type": "execute_result"
    }
   ],
   "source": [
    "import os\n",
    "os.listdir('.')"
   ]
  },
  {
   "cell_type": "markdown",
   "id": "b85467a0",
   "metadata": {},
   "source": [
    "### 5. Create a list of all of the files in your parent directory (minimum five files should be available)."
   ]
  },
  {
   "cell_type": "markdown",
   "id": "936f7c35",
   "metadata": {},
   "source": [
    "### Answer:"
   ]
  },
  {
   "cell_type": "code",
   "execution_count": 1,
   "id": "1fdd2fff",
   "metadata": {},
   "outputs": [
    {
     "data": {
      "text/plain": [
       "['.ipynb_checkpoints',\n",
       " '01 i-neuron python basic assignment 01.ipynb',\n",
       " '02 i-neuron python basic assignment 02.ipynb',\n",
       " '03 i-neuron python basic assignment 03.ipynb',\n",
       " '04 i-neuron python basic assignment 04.ipynb',\n",
       " '05 i-neuron python basic assignment 05.ipynb',\n",
       " '06 i-neuron python basic assignment 06.ipynb',\n",
       " '07 i-neuron python basic assignment 07 Regular Expression.ipynb',\n",
       " '08 i-neuron python basic assignment 08 PyinputPlus.ipynb',\n",
       " '09 i-neuron python basic assignment 09 file handling.ipynb',\n",
       " '10 i-neuron python basic assignment 10.ipynb',\n",
       " '11 i-neuron python basic assignment 11.ipynb',\n",
       " '12 i-neuron python basic assignment 12.ipynb',\n",
       " '13 i-neuron python basic assignment 13.ipynb',\n",
       " '14 i-neuron python basic assignment 14.ipynb',\n",
       " '15 i-neuron python basic assignment 15.ipynb',\n",
       " '16 i-neuron python basic assignment 16.ipynb',\n",
       " '17 i-neuron python basic assignment 17.ipynb',\n",
       " '18 i-neuron python basic assignment 18.ipynb',\n",
       " '19 i-neuron python basic assignment 19.ipynb',\n",
       " '20 i-neuron python basic assignment 20.ipynb',\n",
       " '21 i-neuron python basic assignment 21.ipynb',\n",
       " '22 i-neuron python basic assignment 22.ipynb',\n",
       " '23 i-neuron python basic assignment 23.ipynb',\n",
       " '24 i-neuron python basic assignment 24.ipynb',\n",
       " '25 i-neuron python basic assignment 25.ipynb',\n",
       " 'books.csv',\n",
       " 'books.db',\n",
       " 'test.txt',\n",
       " 'today.txt',\n",
       " 'zoo.ipynb',\n",
       " 'zoo.py',\n",
       " '__pycache__']"
      ]
     },
     "execution_count": 1,
     "metadata": {},
     "output_type": "execute_result"
    }
   ],
   "source": [
    "from os import listdir\n",
    "listdir()"
   ]
  },
  {
   "cell_type": "markdown",
   "id": "04d6412c",
   "metadata": {},
   "source": [
    "### 6. Use multiprocessing to create three separate processes. Make each one wait a random number of seconds between one and five, print the current time, and then exit."
   ]
  },
  {
   "cell_type": "markdown",
   "id": "74e5adc6",
   "metadata": {},
   "source": [
    "### Answer:"
   ]
  },
  {
   "cell_type": "code",
   "execution_count": 6,
   "id": "490c8291",
   "metadata": {},
   "outputs": [],
   "source": [
    "import multiprocessing\n",
    "\n",
    "def printsec(seconds):\n",
    "    from datetime import datetime\n",
    "    from time import sleep\n",
    "    sleep(seconds)\n",
    "    print('wait', seconds, 'seconds, time is', datetime.utcnow())\n",
    "    \n",
    "if __name__ == '__main__':\n",
    "    import random    \n",
    "    for n in range(3):\n",
    "        seconds = random.random()\n",
    "        proc = multiprocessing.Process(target=printsec, args=(seconds,))\n",
    "        proc.start()"
   ]
  },
  {
   "cell_type": "markdown",
   "id": "01a3e73f",
   "metadata": {},
   "source": [
    "### 7. Create a date object of your day of birth."
   ]
  },
  {
   "cell_type": "markdown",
   "id": "a200ef23",
   "metadata": {},
   "source": [
    "### Answer:"
   ]
  },
  {
   "cell_type": "code",
   "execution_count": 10,
   "id": "fed42db4",
   "metadata": {},
   "outputs": [
    {
     "data": {
      "text/plain": [
       "datetime.date(1995, 11, 10)"
      ]
     },
     "execution_count": 10,
     "metadata": {},
     "output_type": "execute_result"
    }
   ],
   "source": [
    "my_dob = date(1995,11,10)\n",
    "my_dob"
   ]
  },
  {
   "cell_type": "markdown",
   "id": "4adb5214",
   "metadata": {},
   "source": [
    "### 8. What day of the week was your day of birth?"
   ]
  },
  {
   "cell_type": "markdown",
   "id": "6729129e",
   "metadata": {},
   "source": [
    "### Answer:"
   ]
  },
  {
   "cell_type": "code",
   "execution_count": 11,
   "id": "27e60be1",
   "metadata": {},
   "outputs": [
    {
     "data": {
      "text/plain": [
       "4"
      ]
     },
     "execution_count": 11,
     "metadata": {},
     "output_type": "execute_result"
    }
   ],
   "source": [
    "my_dob.weekday()"
   ]
  },
  {
   "cell_type": "markdown",
   "id": "d36d6807",
   "metadata": {},
   "source": [
    "### 9. When will you be (or when were you) 10,000 days old?"
   ]
  },
  {
   "cell_type": "markdown",
   "id": "949f69e6",
   "metadata": {},
   "source": [
    "### Answer:"
   ]
  },
  {
   "cell_type": "code",
   "execution_count": 12,
   "id": "62616f0a",
   "metadata": {},
   "outputs": [
    {
     "data": {
      "text/plain": [
       "datetime.date(2023, 3, 28)"
      ]
     },
     "execution_count": 12,
     "metadata": {},
     "output_type": "execute_result"
    }
   ],
   "source": [
    "from datetime import timedelta\n",
    "day10000 = my_dob + timedelta(days=10000)\n",
    "day10000\n"
   ]
  }
 ],
 "metadata": {
  "kernelspec": {
   "display_name": "Python 3",
   "language": "python",
   "name": "python3"
  },
  "language_info": {
   "codemirror_mode": {
    "name": "ipython",
    "version": 3
   },
   "file_extension": ".py",
   "mimetype": "text/x-python",
   "name": "python",
   "nbconvert_exporter": "python",
   "pygments_lexer": "ipython3",
   "version": "3.8.8"
  }
 },
 "nbformat": 4,
 "nbformat_minor": 5
}
