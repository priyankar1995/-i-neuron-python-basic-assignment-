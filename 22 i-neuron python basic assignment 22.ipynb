{
 "cells": [
  {
   "cell_type": "markdown",
   "id": "4b62899c",
   "metadata": {},
   "source": [
    "### 1. What is the result of the code, and explain?\n",
    "\n",
    "\n",
    "X = 'iNeuron'\n",
    "\n",
    "def func():\n",
    "\n",
    "    print(X)\n",
    "\n",
    "\n",
    "func()"
   ]
  },
  {
   "cell_type": "markdown",
   "id": "19864bcd",
   "metadata": {},
   "source": [
    "### Answer:"
   ]
  },
  {
   "cell_type": "code",
   "execution_count": 1,
   "id": "c2312512",
   "metadata": {},
   "outputs": [],
   "source": [
    "X = 'iNeuron'\n",
    "def func():\n",
    "    print(X)"
   ]
  },
  {
   "cell_type": "code",
   "execution_count": 2,
   "id": "f22ff366",
   "metadata": {},
   "outputs": [
    {
     "name": "stdout",
     "output_type": "stream",
     "text": [
      "iNeuron\n"
     ]
    }
   ],
   "source": [
    "func()"
   ]
  },
  {
   "cell_type": "markdown",
   "id": "91e301f0",
   "metadata": {},
   "source": [
    "#### explaination:\n",
    "\n",
    "the function func() is written to print the value stored in the variable X which is 'iNeuron' in this case.\n",
    "Since X is global variable we are able to print it in side the function func() 'iNeuron'.\n",
    "so when we call the function the string is being printed."
   ]
  },
  {
   "cell_type": "markdown",
   "id": "cc6268b3",
   "metadata": {},
   "source": [
    "### 2. What is the result of the code, and explain?\n",
    "\n",
    "\n",
    "X = 'iNeuron'\n",
    "\n",
    "def func():\n",
    "\n",
    "    X = 'NI!'\n",
    "\n",
    "\n",
    "func()\n",
    "\n",
    "print(X)"
   ]
  },
  {
   "cell_type": "markdown",
   "id": "23b2c899",
   "metadata": {},
   "source": [
    "### Answer:"
   ]
  },
  {
   "cell_type": "code",
   "execution_count": 3,
   "id": "2d50ba0d",
   "metadata": {},
   "outputs": [],
   "source": [
    "X = 'iNeuron'\n",
    "def func():\n",
    "    X = 'NI!'"
   ]
  },
  {
   "cell_type": "code",
   "execution_count": 4,
   "id": "7398ddf2",
   "metadata": {},
   "outputs": [
    {
     "name": "stdout",
     "output_type": "stream",
     "text": [
      "iNeuron\n"
     ]
    }
   ],
   "source": [
    "func()\n",
    "print(X)"
   ]
  },
  {
   "cell_type": "markdown",
   "id": "8ff4ac02",
   "metadata": {},
   "source": [
    "#### explaination:\n",
    "\n",
    "the function func() is written to only store the the value 'NI!' in the variable X. so when the function is called it doesn't create any output as no statement is written to print or return any value\n",
    "\n",
    "the print(X) function is printing the value of X  which is 'iNeuron' in this case.\n",
    "though there are two variable naming X , the first assigned value of X is being printed as it's scope is global\n",
    "the secon X variable carrying value 'NI!' has only local scope inside the function func(), thereby not interventing the previous value of X\n"
   ]
  },
  {
   "cell_type": "markdown",
   "id": "5d53e39d",
   "metadata": {},
   "source": [
    "### 3. What does this code print, and why?\n",
    "\n",
    "\n",
    "X = 'iNeuron'\n",
    "def func():\n",
    "    X = 'NI'\n",
    "    print(X)\n",
    "\n",
    "\n",
    "func()\n",
    "print(X)"
   ]
  },
  {
   "cell_type": "markdown",
   "id": "bc33109a",
   "metadata": {},
   "source": [
    "### Answer:"
   ]
  },
  {
   "cell_type": "code",
   "execution_count": 5,
   "id": "24163253",
   "metadata": {},
   "outputs": [],
   "source": [
    "X = 'iNeuron'\n",
    "def func():\n",
    "    X = 'NI'\n",
    "    print(X)"
   ]
  },
  {
   "cell_type": "code",
   "execution_count": 12,
   "id": "7b2a0b77",
   "metadata": {},
   "outputs": [
    {
     "name": "stdout",
     "output_type": "stream",
     "text": [
      "NI\n"
     ]
    }
   ],
   "source": [
    "func()\n",
    "print(X)"
   ]
  },
  {
   "cell_type": "markdown",
   "id": "ae0d4b41",
   "metadata": {},
   "source": [
    "#### explaination:\n",
    "\n",
    "when The func() function is called it is printing 'NI' which is the local value of Variable X cause its scope is local in the funtion's body.\n",
    "\n",
    "when we write print(X) the global value of X is being printed which is 'iNeuron' here"
   ]
  },
  {
   "cell_type": "markdown",
   "id": "7f4bf39a",
   "metadata": {},
   "source": [
    "### 4. What output does this code produce? Why?\n",
    "\n",
    "\n",
    "X = 'iNeuron'\n",
    "\n",
    "def func():\n",
    "\n",
    "    global X\n",
    "    \n",
    "    X = 'NI'\n",
    "\n",
    "\n",
    "func()\n",
    "\n",
    "print(X)"
   ]
  },
  {
   "cell_type": "markdown",
   "id": "4a4c0e49",
   "metadata": {},
   "source": [
    "### Answer:"
   ]
  },
  {
   "cell_type": "code",
   "execution_count": 10,
   "id": "6346330c",
   "metadata": {},
   "outputs": [],
   "source": [
    "X = 'iNeuron'\n",
    "def func():\n",
    "    global X\n",
    "    X = 'NI'"
   ]
  },
  {
   "cell_type": "code",
   "execution_count": 11,
   "id": "9c7a1bbf",
   "metadata": {},
   "outputs": [
    {
     "name": "stdout",
     "output_type": "stream",
     "text": [
      "NI\n"
     ]
    }
   ],
   "source": [
    "func()\n",
    "print(X)"
   ]
  },
  {
   "cell_type": "markdown",
   "id": "4d61fe81",
   "metadata": {},
   "source": [
    "#### explaination:\n",
    "again the function func() is written to make the scope of variable X global and assign the value 'NI'\n",
    "since the X in func() function is made Global, it will be accesible out side of the function too. \n",
    "now variable X will have new value 'NI' which will override the old value 'iNeuron'."
   ]
  },
  {
   "cell_type": "markdown",
   "id": "67c4a879",
   "metadata": {},
   "source": [
    "### 5. What about this code—what’s the output, and why?\n",
    "\n",
    "\n",
    "X = 'iNeuron'\n",
    "\n",
    "def func():\n",
    "\n",
    "    X = 'NI'\n",
    "    \n",
    "def nested():\n",
    "\n",
    "    print(X)\n",
    "\n",
    "\n",
    "nested()\n",
    "\n",
    "func()\n",
    "\n",
    "X"
   ]
  },
  {
   "cell_type": "markdown",
   "id": "342c5653",
   "metadata": {},
   "source": [
    "### Answer:"
   ]
  },
  {
   "cell_type": "code",
   "execution_count": 18,
   "id": "65a5516b",
   "metadata": {},
   "outputs": [],
   "source": [
    "X = 'iNeuron'\n",
    "def func():\n",
    "    X = 'NI'\n",
    "def nested():\n",
    "    print(X)"
   ]
  },
  {
   "cell_type": "code",
   "execution_count": 22,
   "id": "5eb3083d",
   "metadata": {},
   "outputs": [
    {
     "name": "stdout",
     "output_type": "stream",
     "text": [
      "iNeuron\n"
     ]
    },
    {
     "data": {
      "text/plain": [
       "'iNeuron'"
      ]
     },
     "execution_count": 22,
     "metadata": {},
     "output_type": "execute_result"
    }
   ],
   "source": [
    "nested()\n",
    "func()\n",
    "X"
   ]
  },
  {
   "cell_type": "markdown",
   "id": "9be4b9ba",
   "metadata": {},
   "source": [
    "#### explaination:\n",
    "\n",
    "when the nested() function is called it is printing the global value of X which is 'iNeuron'.\n",
    "\n",
    "when the func() function is called it is not printing anything as only a local value 'NI' is assigned to it and nothing is written to return or print any value.\n",
    "\n",
    "atlast the global value of X is printed again which is 'iNeuron'\n"
   ]
  },
  {
   "cell_type": "markdown",
   "id": "2aac4d46",
   "metadata": {},
   "source": [
    "### 6. How about this code: what is its output in Python 3, and explain?\n",
    "\n",
    "\n",
    "def func():\n",
    "\n",
    "    X = 'NI'\n",
    "    \n",
    "    def nested():\n",
    "    \n",
    "        nonlocal X\n",
    "        \n",
    "        X = 'Spam'\n",
    "        \n",
    "    nested()\n",
    "    \n",
    "    print(X)\n",
    "    \n",
    "    \n",
    "func()"
   ]
  },
  {
   "cell_type": "markdown",
   "id": "5ebb2236",
   "metadata": {},
   "source": [
    "### Answer:"
   ]
  },
  {
   "cell_type": "code",
   "execution_count": 23,
   "id": "05a66bb9",
   "metadata": {},
   "outputs": [],
   "source": [
    "def func():\n",
    "    X = 'NI'\n",
    "    def nested():\n",
    "        nonlocal X\n",
    "        X = 'Spam'\n",
    "    nested()\n",
    "    print(X)"
   ]
  },
  {
   "cell_type": "code",
   "execution_count": 24,
   "id": "1f5d1ab6",
   "metadata": {},
   "outputs": [
    {
     "name": "stdout",
     "output_type": "stream",
     "text": [
      "Spam\n"
     ]
    }
   ],
   "source": [
    "func()"
   ]
  },
  {
   "cell_type": "markdown",
   "id": "0b58c5b6",
   "metadata": {},
   "source": [
    "#### explaination:\n",
    "\n",
    "Nonlocal variables are used in nested functions whose local scope is not defined. \n",
    "\n",
    "This means that the variable can be neither in the local nor the global scope. it print the updated value from nested function"
   ]
  }
 ],
 "metadata": {
  "kernelspec": {
   "display_name": "Python 3",
   "language": "python",
   "name": "python3"
  },
  "language_info": {
   "codemirror_mode": {
    "name": "ipython",
    "version": 3
   },
   "file_extension": ".py",
   "mimetype": "text/x-python",
   "name": "python",
   "nbconvert_exporter": "python",
   "pygments_lexer": "ipython3",
   "version": "3.8.8"
  }
 },
 "nbformat": 4,
 "nbformat_minor": 5
}
