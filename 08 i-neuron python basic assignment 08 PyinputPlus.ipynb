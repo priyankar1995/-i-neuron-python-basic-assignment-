{
 "cells": [
  {
   "cell_type": "markdown",
   "id": "eac0865c",
   "metadata": {},
   "source": [
    "### 1. Is the Python Standard Library included with PyInputPlus?"
   ]
  },
  {
   "cell_type": "markdown",
   "id": "17d737a1",
   "metadata": {},
   "source": [
    "### Answer \n",
    "PyInputPlus is a Python module used for taking inputs with additional validation features. PyInputPlus will keep asking the user for text until they enter valid input.\n",
    "\n",
    "### Installation: \n",
    "we have to 'pip install PyInputPlus' in our IDE to import the module and get its functionality"
   ]
  },
  {
   "cell_type": "markdown",
   "id": "d61e2428",
   "metadata": {},
   "source": [
    "### 2. Why is PyInputPlus commonly imported with import pyinputplus as pypi?"
   ]
  },
  {
   "cell_type": "markdown",
   "id": "a22c57ab",
   "metadata": {},
   "source": [
    "### Answer: \n",
    "the module is commonly imported with import pyinputplus as pyip so that we can enter a shorter name and maintain the naming convention when calling the module’s functions. otherwise we can use any name instead of pyip. It also helps coders to easily comprehend one another's code"
   ]
  },
  {
   "cell_type": "markdown",
   "id": "090b4744",
   "metadata": {},
   "source": [
    "### 3. How do you distinguish between inputInt() and inputFloat()?"
   ]
  },
  {
   "cell_type": "markdown",
   "id": "6520f1cc",
   "metadata": {},
   "source": [
    "### Answer: \n",
    "inputInt() : Accepts an integer value. This also takes additional parameters ‘min’, ‘max’, ‘greaterThan’ and ‘lessThan’ for bounds. Returns an int.\n",
    "\n",
    "inputFloat() : Accepts a floating-point numeric value. Also takes additional ‘min’, ‘max’, ‘greaterThan’ and ‘lessThan’ parameters. Returns a float.\n"
   ]
  },
  {
   "cell_type": "markdown",
   "id": "654c501f",
   "metadata": {},
   "source": [
    "### 4. Using PyInputPlus, how do you ensure that the user enters a whole number between 0 and 99?"
   ]
  },
  {
   "cell_type": "markdown",
   "id": "ef859041",
   "metadata": {},
   "source": [
    "### Answer \n",
    "we should write the code like following cell"
   ]
  },
  {
   "cell_type": "markdown",
   "id": "61de79be",
   "metadata": {},
   "source": [
    "import pyinputplus as pyip\n",
    "\n",
    "inp = pyip.inputNum(prompt='', default=0, greaterThan=0, lessThan=100)  \n",
    "\n",
    "print(inp)"
   ]
  },
  {
   "cell_type": "markdown",
   "id": "4a8d514f",
   "metadata": {},
   "source": [
    "### 5. What is transferred to the keyword arguments allowRegexes and blockRegexes?"
   ]
  },
  {
   "cell_type": "markdown",
   "id": "59fe75f0",
   "metadata": {},
   "source": [
    "### Answer: \n",
    "def inputNum(prompt='', default=None, blank=False, timeout=None, limit=None, strip=None, allowRegexes=None, blockRegexes=None, applyFunc=None, postValidateApplyFunc=None, min=None, max=None, greaterThan=None, lessThan=None)\n",
    "\n",
    "Certain inputs can be blocked (that is, these values are invalidated) by setting the blockRegexes parameter’s value as the regex pattern we want to invalidate viceversa for allowRegexes."
   ]
  },
  {
   "cell_type": "markdown",
   "id": "90cf1b07",
   "metadata": {},
   "source": [
    "import pyinputplus as pyip\n",
    "\n",
    "inp = pyip.inputStr(prompt=\"Enter a string... \", blank=True, blockRegexes = 'aeiou') #strung with vowels will be invalidated\n",
    "\n",
    "print(inp)"
   ]
  },
  {
   "cell_type": "markdown",
   "id": "06d27d83",
   "metadata": {},
   "source": [
    "### 6. If a blank input is entered three times, what does inputStr(limit=3) do?"
   ]
  },
  {
   "cell_type": "markdown",
   "id": "196c4350",
   "metadata": {},
   "source": [
    "### Answer: \n",
    "inputStr() raises a TimeoutException exception. If the user answers incorrectly more than 3 times, it raises a RetryLimitException exception."
   ]
  },
  {
   "cell_type": "markdown",
   "id": "c81e138c",
   "metadata": {},
   "source": [
    "### 7. If blank input is entered three times, what does inputStr(limit=3, default='hello') do?"
   ]
  },
  {
   "cell_type": "markdown",
   "id": "993ebbef",
   "metadata": {},
   "source": [
    "### Answer: \n",
    "If the user answers incorrectly more than 3 times, then default value Hello will be printed.\n",
    "\n"
   ]
  },
  {
   "cell_type": "markdown",
   "id": "160cc87b",
   "metadata": {},
   "source": [
    "import pyinputplus as pyip\n",
    "\n",
    "inp = pyip.inputStr(limit=3, default='hello')\n",
    "\n",
    "print(inp)"
   ]
  }
 ],
 "metadata": {
  "kernelspec": {
   "display_name": "Python 3",
   "language": "python",
   "name": "python3"
  },
  "language_info": {
   "codemirror_mode": {
    "name": "ipython",
    "version": 3
   },
   "file_extension": ".py",
   "mimetype": "text/x-python",
   "name": "python",
   "nbconvert_exporter": "python",
   "pygments_lexer": "ipython3",
   "version": "3.8.8"
  }
 },
 "nbformat": 4,
 "nbformat_minor": 5
}
