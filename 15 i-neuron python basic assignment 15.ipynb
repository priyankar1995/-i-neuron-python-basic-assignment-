{
 "cells": [
  {
   "cell_type": "markdown",
   "id": "51eb4408",
   "metadata": {},
   "source": [
    "### 1.How many seconds are in an hour? Use the interactive interpreter as a calculator and multiply the number of seconds in a minute (60) by the number of minutes in an hour (also 60). sol. 60 \n",
    "\n"
   ]
  },
  {
   "cell_type": "markdown",
   "id": "27d743a2",
   "metadata": {},
   "source": [
    "### ANSWER:"
   ]
  },
  {
   "cell_type": "code",
   "execution_count": 1,
   "id": "d14e961c",
   "metadata": {},
   "outputs": [
    {
     "data": {
      "text/plain": [
       "3600"
      ]
     },
     "execution_count": 1,
     "metadata": {},
     "output_type": "execute_result"
    }
   ],
   "source": [
    "60 * 60"
   ]
  },
  {
   "cell_type": "markdown",
   "id": "467efc36",
   "metadata": {},
   "source": [
    "### 2. Assign the result from the previous task (seconds in an hour) to a variable called seconds_per_hour.\n"
   ]
  },
  {
   "cell_type": "markdown",
   "id": "2a73a65b",
   "metadata": {},
   "source": [
    "### ANSWER:\n"
   ]
  },
  {
   "cell_type": "code",
   "execution_count": 3,
   "id": "ff311c75",
   "metadata": {},
   "outputs": [],
   "source": [
    "seconds_per_hour = 60 * 60"
   ]
  },
  {
   "cell_type": "markdown",
   "id": "0a4adb4f",
   "metadata": {},
   "source": [
    "### 3. How many seconds do you think there are in a day? Make use of the variables seconds per hour and minutes_per_hour.\n"
   ]
  },
  {
   "cell_type": "markdown",
   "id": "a7d0a197",
   "metadata": {},
   "source": [
    "### ANSWER:"
   ]
  },
  {
   "cell_type": "code",
   "execution_count": 4,
   "id": "6a66b326",
   "metadata": {},
   "outputs": [
    {
     "data": {
      "text/plain": [
       "86400"
      ]
     },
     "execution_count": 4,
     "metadata": {},
     "output_type": "execute_result"
    }
   ],
   "source": [
    "seconds_per_hour * 24"
   ]
  },
  {
   "cell_type": "markdown",
   "id": "f2587b77",
   "metadata": {},
   "source": [
    "### 4. Calculate seconds per day again, but this time save the result in a variable called seconds_per_day\n"
   ]
  },
  {
   "cell_type": "markdown",
   "id": "a910af58",
   "metadata": {},
   "source": [
    "### ANSWER:"
   ]
  },
  {
   "cell_type": "code",
   "execution_count": 5,
   "id": "186cfebe",
   "metadata": {},
   "outputs": [],
   "source": [
    "seconds_per_day = seconds_per_hour * 24"
   ]
  },
  {
   "cell_type": "markdown",
   "id": "ea2760a8",
   "metadata": {},
   "source": [
    "### 5. Divide seconds_per_day by seconds_per_hour. Use floating-point (/) division.\n"
   ]
  },
  {
   "cell_type": "markdown",
   "id": "d0e91627",
   "metadata": {},
   "source": [
    "### ANSWER:"
   ]
  },
  {
   "cell_type": "code",
   "execution_count": 6,
   "id": "84b2858c",
   "metadata": {},
   "outputs": [
    {
     "data": {
      "text/plain": [
       "24.0"
      ]
     },
     "execution_count": 6,
     "metadata": {},
     "output_type": "execute_result"
    }
   ],
   "source": [
    "seconds_per_day / seconds_per_hour"
   ]
  },
  {
   "cell_type": "markdown",
   "id": "e3026f6d",
   "metadata": {},
   "source": [
    "### 6. Divide seconds_per_day by seconds_per_hour, using integer (//) division. Did this number agree with the floating-point value from the previous question, aside from the final .0?\n"
   ]
  },
  {
   "cell_type": "markdown",
   "id": "3d4ab69e",
   "metadata": {},
   "source": [
    "### ANSWER:"
   ]
  },
  {
   "cell_type": "code",
   "execution_count": 7,
   "id": "d41ab2c2",
   "metadata": {},
   "outputs": [
    {
     "data": {
      "text/plain": [
       "24"
      ]
     },
     "execution_count": 7,
     "metadata": {},
     "output_type": "execute_result"
    }
   ],
   "source": [
    "seconds_per_day // seconds_per_hour"
   ]
  },
  {
   "cell_type": "markdown",
   "id": "b7ae79f1",
   "metadata": {},
   "source": [
    "yes the number agrees"
   ]
  },
  {
   "cell_type": "markdown",
   "id": "0ed873c3",
   "metadata": {},
   "source": [
    "### 7. Write a generator, genPrimes, that returns the sequence of prime numbers on successive calls to its next() method: 2, 3, 5, 7, 11, ...\n"
   ]
  },
  {
   "cell_type": "markdown",
   "id": "c5e9c848",
   "metadata": {},
   "source": [
    "### ANSWER:"
   ]
  },
  {
   "cell_type": "code",
   "execution_count": 2,
   "id": "4eaf1d08",
   "metadata": {},
   "outputs": [
    {
     "name": "stdout",
     "output_type": "stream",
     "text": [
      "2\n",
      "3\n",
      "5\n",
      "7\n",
      "11\n"
     ]
    }
   ],
   "source": [
    "def genPrimes():\n",
    "    n = 0 \n",
    "    while True:\n",
    "        if n == 2 or n == 3 : \n",
    "            yield n \n",
    "        elif ((n-1)%6 == 0 or (n+1)%6 == 0) and n !=1: \n",
    "            yield n \n",
    "        n = n+1 \n",
    "\n",
    "output = genPrimes() \n",
    "for ele in range(5): \n",
    "    print(next(output))"
   ]
  }
 ],
 "metadata": {
  "kernelspec": {
   "display_name": "Python 3",
   "language": "python",
   "name": "python3"
  },
  "language_info": {
   "codemirror_mode": {
    "name": "ipython",
    "version": 3
   },
   "file_extension": ".py",
   "mimetype": "text/x-python",
   "name": "python",
   "nbconvert_exporter": "python",
   "pygments_lexer": "ipython3",
   "version": "3.8.8"
  }
 },
 "nbformat": 4,
 "nbformat_minor": 5
}
