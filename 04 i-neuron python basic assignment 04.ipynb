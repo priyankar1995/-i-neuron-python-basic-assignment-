{
 "cells": [
  {
   "cell_type": "markdown",
   "id": "e3ebf8c5",
   "metadata": {},
   "source": [
    "### 1. What exactly is [ ]?"
   ]
  },
  {
   "cell_type": "markdown",
   "id": "56550e67",
   "metadata": {},
   "source": [
    " ### ans.\n",
    " \n",
    " [] or empty third bracket in python suggests an empty list\n",
    " \n",
    " [] can also used for indexing, or can be used for slicing lists ,tuples, strings and accessing dictionary values\n",
    " "
   ]
  },
  {
   "cell_type": "markdown",
   "id": "7f083394",
   "metadata": {},
   "source": [
    "### 2. In a list of values stored in a variable called spam, how would you assign the value 'hello' as the third value? (Assume [2, 4, 6, 8, 10] are in spam.)\n"
   ]
  },
  {
   "cell_type": "markdown",
   "id": "74733d38",
   "metadata": {},
   "source": [
    "### ans.\n",
    "assuming [2, 4, 6, 8, 10] in valriable spam we can change its third value by anything we want just by calling its index and reassigining value. As list is a mutable data type we won't face any error. the result will be \n",
    "[2, 4, 'hello', 8, 10]"
   ]
  },
  {
   "cell_type": "markdown",
   "id": "98b85a10",
   "metadata": {},
   "source": [
    "### Let's pretend the spam includes the list ['a', 'b', 'c', 'd'] for the next three queries."
   ]
  },
  {
   "cell_type": "markdown",
   "id": "c625463c",
   "metadata": {},
   "source": [
    "### 3. What is the value of spam[int(int('3' * 2) / 11)]?"
   ]
  },
  {
   "cell_type": "markdown",
   "id": "b7ab1573",
   "metadata": {},
   "source": [
    "### ans.\n",
    "the value of spam[int(int('3' * 2) / 11)] of is 'd' or the fourth element of the string"
   ]
  },
  {
   "cell_type": "markdown",
   "id": "0d1f0993",
   "metadata": {},
   "source": [
    "### 4. What is the value of spam[-1]?"
   ]
  },
  {
   "cell_type": "markdown",
   "id": "4b8b9d39",
   "metadata": {},
   "source": [
    "### ans.\n",
    "the value of spam[-1] is 'd'"
   ]
  },
  {
   "cell_type": "markdown",
   "id": "5e63aa13",
   "metadata": {},
   "source": [
    "### 5. What is the value of spam[:2]?\n"
   ]
  },
  {
   "cell_type": "markdown",
   "id": "949ffb69",
   "metadata": {},
   "source": [
    "### ans.\n",
    "the value is the list sliced from zeroth index to the index before second which is ['a','b']"
   ]
  },
  {
   "cell_type": "markdown",
   "id": "5713c740",
   "metadata": {},
   "source": [
    "### Let's pretend bacon has the list [3.14, 'cat,' 11, 'cat,' True] for the next three questions."
   ]
  },
  {
   "cell_type": "markdown",
   "id": "1c434aaf",
   "metadata": {},
   "source": [
    "### 6. What is the value of bacon.index('cat')?"
   ]
  },
  {
   "cell_type": "markdown",
   "id": "fd75f5c0",
   "metadata": {},
   "source": [
    "### ans.\n",
    "this statement will show the first index of the value 'cat' which is 1 (though there are two similar values)"
   ]
  },
  {
   "cell_type": "markdown",
   "id": "4692593f",
   "metadata": {},
   "source": [
    "### 7. How does bacon.append(99) change the look of the list value in bacon?"
   ]
  },
  {
   "cell_type": "markdown",
   "id": "4f8e4dc4",
   "metadata": {},
   "source": [
    "### ans.\n",
    "bacon.append(99) will add the 99 at the last of the list bacon which will result in   \n",
    "[3.14, 'cat', 11, 'cat', True, 99]"
   ]
  },
  {
   "cell_type": "markdown",
   "id": "f1669e19",
   "metadata": {},
   "source": [
    "### 8. How does bacon.remove('cat') change the look of the list in bacon?"
   ]
  },
  {
   "cell_type": "markdown",
   "id": "2511f7e9",
   "metadata": {},
   "source": [
    "### ans.\n",
    "bacon.remove('cat') will remove the first value 'cat' from the list bacon and result in \n",
    "\n",
    "[3.14, 11, 'cat', True, 99]"
   ]
  },
  {
   "cell_type": "markdown",
   "id": "52065b19",
   "metadata": {},
   "source": [
    "### 9. What are the list concatenation and list replication operators?"
   ]
  },
  {
   "cell_type": "markdown",
   "id": "8e5d16fa",
   "metadata": {},
   "source": [
    "### ans.\n",
    "' + ' is the operator for list concatenation , ' * ' is the operator for list replication "
   ]
  },
  {
   "cell_type": "markdown",
   "id": "bbab9c4e",
   "metadata": {},
   "source": [
    "### 10. What is difference between the list methods append() and insert()?"
   ]
  },
  {
   "cell_type": "markdown",
   "id": "c8178326",
   "metadata": {},
   "source": [
    "### ans.\n",
    "append() method appends a element at the last(by default) of a list\n",
    "\n",
    "insert() method takes two parameters , first one is the position where a elemen will be inserted and second one is the element to be inserted in a in that position"
   ]
  },
  {
   "cell_type": "markdown",
   "id": "7bdb08af",
   "metadata": {},
   "source": [
    "### 11. What are the two methods for removing items from a list?"
   ]
  },
  {
   "cell_type": "markdown",
   "id": "63b15a13",
   "metadata": {},
   "source": [
    "### ans.\n",
    "two methods to remove items from a list is remove(), pop()\n",
    "\n",
    "remove() directly uses elements for deletion\n",
    "\n",
    "pop() deletes elements by index number"
   ]
  },
  {
   "cell_type": "markdown",
   "id": "82b52c4b",
   "metadata": {},
   "source": [
    "### 12. Describe how list values and string values are identical."
   ]
  },
  {
   "cell_type": "markdown",
   "id": "47ee1c13",
   "metadata": {},
   "source": [
    "### ans.\n",
    "Lists and strings are of similar category,\n",
    "\n",
    "strings are collections of characters,\n",
    "\n",
    "elements of a list can be of any type including any other list or string."
   ]
  },
  {
   "cell_type": "markdown",
   "id": "f7fb7566",
   "metadata": {},
   "source": [
    "### 13. What's the difference between tuples and lists?"
   ]
  },
  {
   "cell_type": "markdown",
   "id": "5bb8a94d",
   "metadata": {},
   "source": [
    "### ans.\n",
    "both tuples and lists are collection data types\n",
    "\n",
    "though both can contain any type of data .\n",
    "\n",
    "tuples are immutable which means once defined or declared these can not be edited\n",
    "\n",
    "but lists are muatble which means values can be added, deleted or changeds"
   ]
  },
  {
   "cell_type": "markdown",
   "id": "03f53bde",
   "metadata": {},
   "source": [
    "### 14. How do you type a tuple value that only contains the integer 42?"
   ]
  },
  {
   "cell_type": "markdown",
   "id": "37590c1d",
   "metadata": {},
   "source": [
    "### ans.\n",
    "to type a tuple value containing single element we need to add a comma after it\n",
    "\n",
    "e.g (42,)"
   ]
  },
  {
   "cell_type": "markdown",
   "id": "481754ee",
   "metadata": {},
   "source": [
    "### 15. How do you get a list value's tuple form? How do you get a tuple value's list form?"
   ]
  },
  {
   "cell_type": "markdown",
   "id": "fa307fcb",
   "metadata": {},
   "source": [
    "### ans.\n",
    "we can convert a list into a tuple by using tuple() function\n",
    "\n",
    "e.g. tuple(list1) # converting list1 into a tuple\n",
    "\n",
    "and \n",
    "\n",
    "we can convert a tuple into a list by using list() function\n",
    "\n",
    "e.g. list(tuple1) # converting tuple1 into a list"
   ]
  },
  {
   "cell_type": "markdown",
   "id": "cb8e26b4",
   "metadata": {},
   "source": [
    "### 16. Variables that \"contain\" list values are not necessarily lists themselves. Instead, what do they contain?"
   ]
  },
  {
   "cell_type": "markdown",
   "id": "c20a6e63",
   "metadata": {},
   "source": [
    "### ans.\n",
    "instead they contain address of the list objects"
   ]
  },
  {
   "cell_type": "markdown",
   "id": "3273f7cb",
   "metadata": {},
   "source": [
    "### 17. How do you distinguish between copy.copy() and copy.deepcopy()?"
   ]
  },
  {
   "cell_type": "markdown",
   "id": "1e40198a",
   "metadata": {},
   "source": [
    "### ans.\n",
    "copy.copy() is shallow copy which make two variables pointing out to a single value or data\n",
    "if any changes is done in the second variable the changes will also be committed in the first variable\n",
    "\n",
    "and copy.deepcopy() is deep copy which will create a new copy of a data containing in first variable and store it in the second variable\n",
    "here changes done to one variable won't affect another"
   ]
  }
 ],
 "metadata": {
  "kernelspec": {
   "display_name": "Python 3",
   "language": "python",
   "name": "python3"
  },
  "language_info": {
   "codemirror_mode": {
    "name": "ipython",
    "version": 3
   },
   "file_extension": ".py",
   "mimetype": "text/x-python",
   "name": "python",
   "nbconvert_exporter": "python",
   "pygments_lexer": "ipython3",
   "version": "3.8.8"
  }
 },
 "nbformat": 4,
 "nbformat_minor": 5
}
