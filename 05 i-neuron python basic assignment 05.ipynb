{
 "cells": [
  {
   "cell_type": "markdown",
   "id": "1c800be0",
   "metadata": {},
   "source": [
    "### 1. What does an empty dictionary's code look like?"
   ]
  },
  {
   "cell_type": "markdown",
   "id": "57356036",
   "metadata": {},
   "source": [
    "### ans.\n",
    "\n",
    "dict1 = dict()\n",
    "\n",
    "or \n",
    "\n",
    "dict1 = {}\n",
    "\n",
    "(considering 'dict1' as the dictionary name)"
   ]
  },
  {
   "cell_type": "markdown",
   "id": "6ef71b1c",
   "metadata": {},
   "source": [
    "### 2. What is the value of a dictionary value with the key 'foo' and the value 42?"
   ]
  },
  {
   "cell_type": "markdown",
   "id": "35925cd0",
   "metadata": {},
   "source": [
    "### ans.\n",
    "\n",
    "dict1 = {foo : 42}\n",
    "\n",
    "(considering 'dict1' as the dictionary name)"
   ]
  },
  {
   "cell_type": "markdown",
   "id": "909adba2",
   "metadata": {},
   "source": [
    "### 3. What is the most significant distinction between a dictionary and a list?"
   ]
  },
  {
   "cell_type": "markdown",
   "id": "10d1cbe9",
   "metadata": {},
   "source": [
    "### ans.\n",
    "the most significant distinction between a dictionary and a list is\n",
    "\n",
    "a dictionary is a set of key value pairs where keys are unique and values can be accessed by those keys, though values can be of various data types and same for different uniqe keys.\n",
    "\n",
    "a list is set of data of various data types which can be accessed with the help of list indexes\n",
    "\n"
   ]
  },
  {
   "cell_type": "markdown",
   "id": "fa0b7a26",
   "metadata": {},
   "source": [
    "### 4. What happens if you try to access spam['foo'] if spam is {'bar': 100}?"
   ]
  },
  {
   "cell_type": "markdown",
   "id": "b29631ee",
   "metadata": {},
   "source": [
    "### ans.\n",
    "it will result in an key error\n",
    "\n",
    "as there is no key named 'bar' in the dictionary spam "
   ]
  },
  {
   "cell_type": "markdown",
   "id": "e99c570c",
   "metadata": {},
   "source": [
    "### 5. If a dictionary is stored in spam, what is the difference between the expressions 'cat' in spam and 'cat' in spam.keys()?"
   ]
  },
  {
   "cell_type": "markdown",
   "id": "d6baa55c",
   "metadata": {},
   "source": [
    "### ans.\n",
    "both the expressions will search 'cat' in keys of the dictionary \n",
    "so there is no difference"
   ]
  },
  {
   "cell_type": "markdown",
   "id": "7c2504cd",
   "metadata": {},
   "source": [
    "### 6. If a dictionary is stored in spam, what is the difference between the expressions 'cat' in spam and 'cat' in spam.values()?"
   ]
  },
  {
   "cell_type": "markdown",
   "id": "55bf70d7",
   "metadata": {},
   "source": [
    "### ans.\n",
    "the first expression will search for any key naming 'cat' in the dictionary\n",
    "\n",
    "but\n",
    "\n",
    "the second expression will search for a value naming 'cat' in the list of values\n",
    "\n",
    "so they will fetch different results"
   ]
  },
  {
   "cell_type": "markdown",
   "id": "af4204d0",
   "metadata": {},
   "source": [
    "### 7. What is a shortcut for the following code?\n",
    "\n",
    "if 'color' not in spam:\n",
    "\n",
    "spam['color'] = 'black'\n"
   ]
  },
  {
   "cell_type": "markdown",
   "id": "e91670a8",
   "metadata": {},
   "source": [
    "### ans.\n",
    "\n",
    "the shortcut for this code is to use setdefault() method\n",
    "\n",
    "e.g.\n",
    "\n",
    "spam.setdefault('color', 'black')\n",
    "\n",
    "this will add a key named 'color' with corresponding value 'black' in the dictionary if there is no key named 'color' previously existed"
   ]
  },
  {
   "cell_type": "markdown",
   "id": "ef2f9a84",
   "metadata": {},
   "source": [
    "### 8. How do you \"pretty print\" dictionary values using which module and function?"
   ]
  },
  {
   "cell_type": "markdown",
   "id": "b4f87795",
   "metadata": {},
   "source": [
    "### ans.\n",
    "first we have to import a module named pprint\n",
    "\n",
    "then we have to use pprint() function and pass the dictionary in the function to create a output of the dictionary more readable\n",
    "\n",
    "e.g\n",
    "\n",
    "pprint.pprint(dict1)  # considering dict1 a dictionary"
   ]
  }
 ],
 "metadata": {
  "kernelspec": {
   "display_name": "Python 3",
   "language": "python",
   "name": "python3"
  },
  "language_info": {
   "codemirror_mode": {
    "name": "ipython",
    "version": 3
   },
   "file_extension": ".py",
   "mimetype": "text/x-python",
   "name": "python",
   "nbconvert_exporter": "python",
   "pygments_lexer": "ipython3",
   "version": "3.8.8"
  }
 },
 "nbformat": 4,
 "nbformat_minor": 5
}
