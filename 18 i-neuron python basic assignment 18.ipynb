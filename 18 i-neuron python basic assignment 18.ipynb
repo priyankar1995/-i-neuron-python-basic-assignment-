{
 "cells": [
  {
   "cell_type": "markdown",
   "id": "e6f8d5f3",
   "metadata": {},
   "source": [
    "### 1. Create a zoo.py file first. Define the hours() function, which prints the string 'Open 9-5 daily'. Then, use the interactive interpreter to import the zoo module and call its hours() function.\n"
   ]
  },
  {
   "cell_type": "markdown",
   "id": "2c7506ba",
   "metadata": {},
   "source": [
    "### Answer:"
   ]
  },
  {
   "cell_type": "code",
   "execution_count": null,
   "id": "9cf95d9c",
   "metadata": {},
   "outputs": [],
   "source": [
    "import zoo \n",
    "hours()"
   ]
  },
  {
   "cell_type": "markdown",
   "id": "95b47985",
   "metadata": {},
   "source": [
    "### 2. In the interactive interpreter, import the zoo module as menagerie and call its hours() function.\n"
   ]
  },
  {
   "cell_type": "markdown",
   "id": "e06463fc",
   "metadata": {},
   "source": [
    "### Answer:"
   ]
  },
  {
   "cell_type": "code",
   "execution_count": null,
   "id": "814b37cf",
   "metadata": {},
   "outputs": [],
   "source": [
    "import zoo as menagerie\n",
    "menagerie.hours()"
   ]
  },
  {
   "cell_type": "markdown",
   "id": "ec0fa2d6",
   "metadata": {},
   "source": [
    "### 3. Using the interpreter, explicitly import and call the hours() function from zoo.\n"
   ]
  },
  {
   "cell_type": "markdown",
   "id": "ff81fa0b",
   "metadata": {},
   "source": [
    "### Answer:"
   ]
  },
  {
   "cell_type": "code",
   "execution_count": null,
   "id": "4429cbbb",
   "metadata": {},
   "outputs": [],
   "source": [
    "from zoo import hours\n",
    "hours()\n"
   ]
  },
  {
   "cell_type": "markdown",
   "id": "2b9c04cc",
   "metadata": {},
   "source": [
    "### 4. Import the hours() function as info and call it.\n"
   ]
  },
  {
   "cell_type": "markdown",
   "id": "a9a53a7e",
   "metadata": {},
   "source": [
    "### Answer:"
   ]
  },
  {
   "cell_type": "code",
   "execution_count": null,
   "id": "dc093192",
   "metadata": {},
   "outputs": [],
   "source": [
    "from zoo import hours as info\n",
    "info()"
   ]
  },
  {
   "cell_type": "markdown",
   "id": "29df2cf0",
   "metadata": {},
   "source": [
    "### 5. Create a plain dictionary with the key-value pairs 'a': 1, 'b': 2, and 'c': 3, and print it out.\n"
   ]
  },
  {
   "cell_type": "markdown",
   "id": "9268f3c7",
   "metadata": {},
   "source": [
    "### Answer:"
   ]
  },
  {
   "cell_type": "code",
   "execution_count": 1,
   "id": "a69f3c06",
   "metadata": {},
   "outputs": [
    {
     "data": {
      "text/plain": [
       "{'a': 1, 'b': 2, 'c': 3}"
      ]
     },
     "execution_count": 1,
     "metadata": {},
     "output_type": "execute_result"
    }
   ],
   "source": [
    "plain = {'a': 1, 'b': 2, 'c': 3}\n",
    "plain"
   ]
  },
  {
   "cell_type": "markdown",
   "id": "9f2f2536",
   "metadata": {},
   "source": [
    "### 6.Make an OrderedDict called fancy from the same pairs listed in 5 and print it. Did it print in the same order as plain?\n"
   ]
  },
  {
   "cell_type": "markdown",
   "id": "8e27eb4f",
   "metadata": {},
   "source": [
    "### Answer:"
   ]
  },
  {
   "cell_type": "code",
   "execution_count": 3,
   "id": "d1be8ba7",
   "metadata": {},
   "outputs": [
    {
     "data": {
      "text/plain": [
       "OrderedDict([('a', 1), ('b', 2), ('c', 3)])"
      ]
     },
     "execution_count": 3,
     "metadata": {},
     "output_type": "execute_result"
    }
   ],
   "source": [
    "from collections import OrderedDict\n",
    "fancy = OrderedDict([('a', 1), ('b', 2), ('c', 3)])\n",
    "fancy"
   ]
  },
  {
   "cell_type": "markdown",
   "id": "f2171ff5",
   "metadata": {},
   "source": [
    "yes the OrderedDict printed the dictionary in the same order as plain"
   ]
  },
  {
   "cell_type": "markdown",
   "id": "bf595b82",
   "metadata": {},
   "source": [
    "### 7. Make a default dictionary called dict_of_lists and pass it the argument list. Make the list dict_of_lists['a'] and append the value 'something for a' to it in one assignment. Print dict_of_lists['a'].\n"
   ]
  },
  {
   "cell_type": "markdown",
   "id": "8fca7995",
   "metadata": {},
   "source": [
    "### Answer:"
   ]
  },
  {
   "cell_type": "code",
   "execution_count": 9,
   "id": "d29ae6c2",
   "metadata": {},
   "outputs": [
    {
     "data": {
      "text/plain": [
       "['something for a']"
      ]
     },
     "execution_count": 9,
     "metadata": {},
     "output_type": "execute_result"
    }
   ],
   "source": [
    "from collections import defaultdict\n",
    "dict_of_lists = defaultdict(list)\n",
    "dict_of_lists['a'].append('something for a')\n",
    "dict_of_lists['a']"
   ]
  }
 ],
 "metadata": {
  "kernelspec": {
   "display_name": "Python 3",
   "language": "python",
   "name": "python3"
  },
  "language_info": {
   "codemirror_mode": {
    "name": "ipython",
    "version": 3
   },
   "file_extension": ".py",
   "mimetype": "text/x-python",
   "name": "python",
   "nbconvert_exporter": "python",
   "pygments_lexer": "ipython3",
   "version": "3.8.8"
  }
 },
 "nbformat": 4,
 "nbformat_minor": 5
}
