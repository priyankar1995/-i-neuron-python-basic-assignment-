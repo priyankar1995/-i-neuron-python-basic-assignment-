{
 "cells": [
  {
   "cell_type": "markdown",
   "id": "9795e803",
   "metadata": {},
   "source": [
    "### 1. What are escape characters, and how do you use them?"
   ]
  },
  {
   "cell_type": "markdown",
   "id": "777819f4",
   "metadata": {},
   "source": [
    "### Ans:\n",
    "\n",
    "Escape characters allows a programmer to include special characters in the strings. To do this, simply a backslash is needed before the character that is going to be escaped.\n",
    "\n",
    "Example:\n",
    "\n",
    "\\t  = Include tab inside strings\n",
    "\n",
    "\\n  = Include new line inside strings"
   ]
  },
  {
   "cell_type": "markdown",
   "id": "35ebabd9",
   "metadata": {},
   "source": [
    "### 2. What do the escape characters n and t stand for?"
   ]
  },
  {
   "cell_type": "markdown",
   "id": "519f0732",
   "metadata": {},
   "source": [
    "### Ans:\n",
    "\n",
    "escape character \\n stands for new line \n",
    "\n",
    "escape character \\t stands for new tab or inserts four spaces"
   ]
  },
  {
   "cell_type": "markdown",
   "id": "29196cd2",
   "metadata": {},
   "source": [
    "### 3. What is the way to include backslash characters in a string?"
   ]
  },
  {
   "cell_type": "markdown",
   "id": "a5f95c22",
   "metadata": {},
   "source": [
    "### Ans:\n",
    "\n",
    "we have to insert double backslashes to include a single backslash in the string"
   ]
  },
  {
   "cell_type": "markdown",
   "id": "79a813ed",
   "metadata": {},
   "source": [
    "### 4. The string \"Howl's Moving Castle\" is a correct value. Why isn't the single quote character in the word Howl's not escaped a problem?"
   ]
  },
  {
   "cell_type": "markdown",
   "id": "d47c970e",
   "metadata": {},
   "source": [
    "### Ans:\n",
    "we can print single quotes inside double quoted strings\n",
    "\n",
    "we can also print double quotes inside single quoted strings"
   ]
  },
  {
   "cell_type": "markdown",
   "id": "607a122c",
   "metadata": {},
   "source": [
    "### 5. How do you write a string of newlines if you don't want to use the n character?"
   ]
  },
  {
   "cell_type": "markdown",
   "id": "f42b3063",
   "metadata": {},
   "source": [
    "### Ans:"
   ]
  },
  {
   "cell_type": "markdown",
   "id": "b99e4487",
   "metadata": {},
   "source": [
    "\n",
    "\n",
    "multiline string allows us to use newlines without using the \\n character."
   ]
  },
  {
   "cell_type": "code",
   "execution_count": 1,
   "id": "da445c06",
   "metadata": {},
   "outputs": [
    {
     "name": "stdout",
     "output_type": "stream",
     "text": [
      "this is the first line\n",
      "this is the second line\n",
      "this is the third line\n"
     ]
    }
   ],
   "source": [
    "a = '''this is the first line\n",
    "this is the second line\n",
    "this is the third line'''\n",
    "print(a)"
   ]
  },
  {
   "cell_type": "markdown",
   "id": "ed29cf29",
   "metadata": {},
   "source": [
    "### 6. What are the values of the given expressions?\n",
    "\n",
    "'Hello, world!'[1]\n",
    "\n",
    "'Hello, world!'[0:5]\n",
    "\n",
    "'Hello, world!'[:5]\n",
    "\n",
    "'Hello, world!'[3:]"
   ]
  },
  {
   "cell_type": "markdown",
   "id": "77af0fef",
   "metadata": {},
   "source": [
    "### Ans:\n",
    "these are operations of indexing and slicing of string 'Hello, world!' :-\n",
    "    \n",
    "#### 'Hello, world!'[1]   = 'e'\n",
    "\n",
    "#### 'Hello, world!'[0:5] = 'Hello'\n",
    "\n",
    "#### 'Hello, world!'[:5]  = 'Hello'\n",
    "\n",
    "#### 'Hello, world!'[3:]  = 'lo, world!'"
   ]
  },
  {
   "cell_type": "markdown",
   "id": "8a618d66",
   "metadata": {},
   "source": [
    "### 7. What are the values of the following expressions?\n",
    "'Hello'.upper()\n",
    "\n",
    "'Hello'.upper().isupper()\n",
    "\n",
    "'Hello'.upper().lower()"
   ]
  },
  {
   "cell_type": "markdown",
   "id": "29c0be44",
   "metadata": {},
   "source": [
    "### Ans:\n",
    "\n",
    "#### 'Hello'.upper() = 'HELLO'\n",
    "\n",
    "all the characters in the string will convert in uppercase\n",
    "\n",
    "#### 'Hello'.upper().isupper() = True\n",
    "\n",
    "all the characters in the string will convert in uppercase then check whether all the characters are uppercase or not\n",
    "\n",
    "#### 'Hello'.upper().lower() = 'hello'\n",
    "\n",
    "all the characters in the string will convert in uppercase then convert all of them into lowercase"
   ]
  },
  {
   "cell_type": "markdown",
   "id": "ca385415",
   "metadata": {},
   "source": [
    "### 8. What are the values of the following expressions?\n",
    "'Remember, remember, the fifth of July.'.split()\n",
    "\n",
    "'-'.join('There can only one.'.split())"
   ]
  },
  {
   "cell_type": "markdown",
   "id": "48f925d0",
   "metadata": {},
   "source": [
    "### Ans:\n",
    "\n",
    "'Remember, remember, the fifth of July.'.split()\n",
    "\n",
    "here the string will be splited based on empty spaces and return a list:\n",
    "\n",
    "### ['Remember,', 'remember,', 'the', 'fifth', 'of', 'July.']\n",
    "\n",
    "'-'.join('There can only one.'.split())\n",
    "\n",
    "here first the string will be splitted into a list of words based on empty spaces, then the elements of the list will be joined with '-' instead of space and turn into a string again and return\n",
    "\n",
    "### 'There-can-only-one.'\n"
   ]
  },
  {
   "cell_type": "markdown",
   "id": "f0f51906",
   "metadata": {},
   "source": [
    "### 9. What are the methods for right-justifying, left-justifying, and centering a string?"
   ]
  },
  {
   "cell_type": "markdown",
   "id": "2da16731",
   "metadata": {},
   "source": [
    "### Ans:\n",
    "\n",
    "#### method   ljust()   is used for left-justifying a string\n",
    "\n",
    "#### method   rjust()   is used for right-justifying a string\n",
    "\n",
    "#### method   center()   is used for centering a string"
   ]
  },
  {
   "cell_type": "markdown",
   "id": "4509b297",
   "metadata": {},
   "source": [
    "### 10. What is the best way to remove whitespace characters from the start or end?"
   ]
  },
  {
   "cell_type": "markdown",
   "id": "f9f71e09",
   "metadata": {},
   "source": [
    "### Ans:\n",
    "\n",
    "#### strip() is the method to removed whitespace characters from the start or end of a string\n",
    "\n",
    "though by default the method removes whitespace characters \n",
    "but any character can be removed similarly if passed in the method arguement "
   ]
  }
 ],
 "metadata": {
  "kernelspec": {
   "display_name": "Python 3",
   "language": "python",
   "name": "python3"
  },
  "language_info": {
   "codemirror_mode": {
    "name": "ipython",
    "version": 3
   },
   "file_extension": ".py",
   "mimetype": "text/x-python",
   "name": "python",
   "nbconvert_exporter": "python",
   "pygments_lexer": "ipython3",
   "version": "3.8.8"
  }
 },
 "nbformat": 4,
 "nbformat_minor": 5
}
