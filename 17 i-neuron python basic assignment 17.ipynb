{
 "cells": [
  {
   "cell_type": "markdown",
   "id": "9362d3ed",
   "metadata": {},
   "source": [
    "### 1. Assign the value 7 to the variable guess_me. Then, write the conditional tests (if, else, and elif) to print the string 'too low' if guess_me is less than 7, 'too high' if greater than 7, and 'just right' if equal to 7.\n",
    "\n"
   ]
  },
  {
   "cell_type": "code",
   "execution_count": 1,
   "id": "01907255",
   "metadata": {},
   "outputs": [
    {
     "name": "stdout",
     "output_type": "stream",
     "text": [
      "just right\n"
     ]
    }
   ],
   "source": [
    "guess_me = 7\n",
    "if guess_me < 7:\n",
    "    print('too low')\n",
    "elif guess_me > 7 :\n",
    "    print('too high')\n",
    "else :\n",
    "    print('just right')"
   ]
  },
  {
   "cell_type": "markdown",
   "id": "72936dc7",
   "metadata": {},
   "source": [
    "### 2. Assign the value 7 to the variable guess_me and the value 1 to the variable start. Write a while loop that compares start with guess_me. Print too low if start is less than guess me. If start equals guess_me, print 'found it!' and exit the loop. If start is greater than guess_me, print 'oops' and exit the loop. Increment start at the end of the loop."
   ]
  },
  {
   "cell_type": "code",
   "execution_count": 7,
   "id": "a1a3c24a",
   "metadata": {},
   "outputs": [
    {
     "name": "stdout",
     "output_type": "stream",
     "text": [
      "too low\n",
      "too low\n",
      "too low\n",
      "too low\n",
      "too low\n",
      "too low\n"
     ]
    }
   ],
   "source": [
    "guess_me = 7\n",
    "start = 1\n",
    "while start != guess_me:\n",
    "    if start < guess_me:\n",
    "        print('too low')\n",
    "    elif start == guess_me:\n",
    "        print('found it!')\n",
    "        break\n",
    "    elif start > guess_me:\n",
    "        print('oops')\n",
    "        break\n",
    "    start += 1"
   ]
  },
  {
   "cell_type": "markdown",
   "id": "18616e8a",
   "metadata": {},
   "source": [
    "### 3. Print the following values of the list [3, 2, 1, 0] using a for loop.\n"
   ]
  },
  {
   "cell_type": "code",
   "execution_count": 8,
   "id": "c64af7e5",
   "metadata": {},
   "outputs": [
    {
     "name": "stdout",
     "output_type": "stream",
     "text": [
      "3\n",
      "2\n",
      "1\n",
      "0\n"
     ]
    }
   ],
   "source": [
    "list1 = [3, 2, 1, 0]\n",
    "for i in list1:\n",
    "    print(i)"
   ]
  },
  {
   "cell_type": "markdown",
   "id": "8be4cdda",
   "metadata": {},
   "source": [
    "### 4. Use a list comprehension to make a list of the even numbers in range(10)\n"
   ]
  },
  {
   "cell_type": "code",
   "execution_count": 10,
   "id": "6f3189c8",
   "metadata": {},
   "outputs": [
    {
     "name": "stdout",
     "output_type": "stream",
     "text": [
      "[0, 2, 4, 6, 8]\n"
     ]
    }
   ],
   "source": [
    "list1 = [x for x in range(10) if x % 2 == 0]\n",
    "print(list1)"
   ]
  },
  {
   "cell_type": "markdown",
   "id": "a188a41b",
   "metadata": {},
   "source": [
    "### 5. Use a dictionary comprehension to create the dictionary squares. Use range(10) to return the keys, and use the square of each key as its value.\n"
   ]
  },
  {
   "cell_type": "code",
   "execution_count": 13,
   "id": "b6066e73",
   "metadata": {},
   "outputs": [
    {
     "name": "stdout",
     "output_type": "stream",
     "text": [
      "{0: 0, 1: 1, 2: 4, 3: 9, 4: 16, 5: 25, 6: 36, 7: 49, 8: 64, 9: 81}\n"
     ]
    }
   ],
   "source": [
    "dict1 = {x : x*x for x in range(10)}\n",
    "print(dict1)"
   ]
  },
  {
   "cell_type": "markdown",
   "id": "fc4b025c",
   "metadata": {},
   "source": [
    "### 6. Construct the set odd from the odd numbers in the range using a set comprehension (10).\n"
   ]
  },
  {
   "cell_type": "code",
   "execution_count": 14,
   "id": "a2ccd133",
   "metadata": {},
   "outputs": [
    {
     "name": "stdout",
     "output_type": "stream",
     "text": [
      "{1, 3, 5, 7, 9}\n"
     ]
    }
   ],
   "source": [
    "set1 = {x for x in range(10) if x % 2 != 0}\n",
    "print(set1)"
   ]
  },
  {
   "cell_type": "markdown",
   "id": "51c25e01",
   "metadata": {},
   "source": [
    "### 7. Use a generator comprehension to return the string 'Got ' and a number for the numbers in range(10). Iterate through this by using a for loop.\n"
   ]
  },
  {
   "cell_type": "code",
   "execution_count": null,
   "id": "1f9ae7e4",
   "metadata": {},
   "outputs": [],
   "source": [
    "comprehension = ('Got ' + str(num) for num in range(10))\n",
    "for item in comprehension:\n",
    "    print(item)"
   ]
  },
  {
   "cell_type": "markdown",
   "id": "c6876a8a",
   "metadata": {},
   "source": [
    "### 8. Define a function called good that returns the list ['Harry', 'Ron', 'Hermione'].\n"
   ]
  },
  {
   "cell_type": "code",
   "execution_count": 15,
   "id": "97913e41",
   "metadata": {},
   "outputs": [],
   "source": [
    "def good():\n",
    "    return ['Harry', 'Ron', 'Hermione']"
   ]
  },
  {
   "cell_type": "code",
   "execution_count": 16,
   "id": "dd166f45",
   "metadata": {},
   "outputs": [
    {
     "data": {
      "text/plain": [
       "['Harry', 'Ron', 'Hermione']"
      ]
     },
     "execution_count": 16,
     "metadata": {},
     "output_type": "execute_result"
    }
   ],
   "source": [
    "good()"
   ]
  },
  {
   "cell_type": "markdown",
   "id": "a6374fa7",
   "metadata": {},
   "source": [
    "### 9. Define a generator function called get_odds that returns the odd numbers from range(10). Use a for loop to find and print the third value returned.\n"
   ]
  },
  {
   "cell_type": "code",
   "execution_count": 1,
   "id": "23ec5ea8",
   "metadata": {},
   "outputs": [],
   "source": [
    "def get_odds():\n",
    "    for x in range(10):\n",
    "        if x%2 != 0:\n",
    "            yield x\n",
    "            "
   ]
  },
  {
   "cell_type": "code",
   "execution_count": 4,
   "id": "fc44320b",
   "metadata": {},
   "outputs": [
    {
     "name": "stdout",
     "output_type": "stream",
     "text": [
      "1\n",
      "3\n",
      "5\n",
      "7\n",
      "9\n"
     ]
    }
   ],
   "source": [
    "for i in get_odds():\n",
    "    print(i)"
   ]
  },
  {
   "cell_type": "markdown",
   "id": "365cd9e0",
   "metadata": {},
   "source": [
    "### 10. Define an exception called OopsException. Raise this exception to see what happens. Then write the code to catch this exception and print 'Caught an oops'.\n"
   ]
  },
  {
   "cell_type": "code",
   "execution_count": 1,
   "id": "88226028",
   "metadata": {},
   "outputs": [
    {
     "name": "stdout",
     "output_type": "stream",
     "text": [
      "Caught an oops\n"
     ]
    }
   ],
   "source": [
    "class OopsException(Exception):\n",
    "    pass\n",
    "\n",
    "def with_exception(a):\n",
    "    if a < 0:\n",
    "        raise OopsException(a)\n",
    "try:\n",
    "    with_exception(-1)\n",
    "except OopsException as err:\n",
    "    print('Caught an oops')"
   ]
  },
  {
   "cell_type": "markdown",
   "id": "cebeb7c7",
   "metadata": {},
   "source": [
    "### 11. Use zip() to make a dictionary called movies that pairs these lists: titles = ['Creature of Habit', 'Crewel Fate'] and plots = ['A nun turns into a monster', 'A haunted yarn shop'].\n"
   ]
  },
  {
   "cell_type": "code",
   "execution_count": 18,
   "id": "7becf711",
   "metadata": {},
   "outputs": [
    {
     "name": "stdout",
     "output_type": "stream",
     "text": [
      "{'Creature of Habit': 'A nun turns into a monster', 'Crewel Fate': 'A haunted yarn shop'}\n"
     ]
    }
   ],
   "source": [
    "titles = ['Creature of Habit', 'Crewel Fate'] \n",
    "plots = ['A nun turns into a monster', 'A haunted yarn shop']\n",
    "dic = zip(titles,plots)\n",
    "dict1 = dict(dic)\n",
    "print(dict1)"
   ]
  }
 ],
 "metadata": {
  "kernelspec": {
   "display_name": "Python 3",
   "language": "python",
   "name": "python3"
  },
  "language_info": {
   "codemirror_mode": {
    "name": "ipython",
    "version": 3
   },
   "file_extension": ".py",
   "mimetype": "text/x-python",
   "name": "python",
   "nbconvert_exporter": "python",
   "pygments_lexer": "ipython3",
   "version": "3.8.8"
  }
 },
 "nbformat": 4,
 "nbformat_minor": 5
}
