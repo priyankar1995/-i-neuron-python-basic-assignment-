{
 "cells": [
  {
   "cell_type": "markdown",
   "id": "ae468976",
   "metadata": {},
   "source": [
    "### 1. Why are functions advantageous to have in your programs?"
   ]
  },
  {
   "cell_type": "markdown",
   "id": "7d919d5a",
   "metadata": {},
   "source": [
    "### Answer:\n",
    "Funtions are advantegous to have in programs because they are reusable which means they save aditional time and effort. \n"
   ]
  },
  {
   "cell_type": "markdown",
   "id": "c5978ae0",
   "metadata": {},
   "source": [
    "### 2. When does the code in a function run: when it's specified or when it's called?"
   ]
  },
  {
   "cell_type": "markdown",
   "id": "f38eaaf9",
   "metadata": {},
   "source": [
    "### Answer:\n",
    "A code in a function runs when that particular function is called anywhere in the program after successful definition.\n",
    "\n"
   ]
  },
  {
   "cell_type": "markdown",
   "id": "54d62f4f",
   "metadata": {},
   "source": [
    "### 3. What statement creates a function?"
   ]
  },
  {
   "cell_type": "markdown",
   "id": "0237d0fc",
   "metadata": {},
   "source": [
    "### Answer:\n",
    "def statement creates a function.\n",
    "\n",
    "\n",
    "e.g.-\n",
    "\n",
    "def func1(arguments):"
   ]
  },
  {
   "cell_type": "markdown",
   "id": "66369c25",
   "metadata": {},
   "source": [
    "### 4. What is the difference between a function and a function call?"
   ]
  },
  {
   "cell_type": "markdown",
   "id": "8ded36e5",
   "metadata": {},
   "source": [
    "### Answer:\n",
    "When a function is specified, interpreter only checks if there is any syntactical error in the definition line.\n",
    "\n",
    "but when the function is called somewere else in that program only then the interpreter go to the function definition line\n",
    "and executes the function body. "
   ]
  },
  {
   "cell_type": "markdown",
   "id": "0af0db03",
   "metadata": {},
   "source": [
    "### 5. How many global scopes are there in a Python program? How many local scopes?"
   ]
  },
  {
   "cell_type": "markdown",
   "id": "c8455da8",
   "metadata": {},
   "source": [
    "### Answer:\n",
    "there is one true global scope which is present in the main indentation of the main code. all the other scopes created \n",
    "by initialising functions, loops and so on are local scopes and nested local scopes, here the concept of relativity works a little. The nested scopes are global or local as per their hierarchy in the code block.\n",
    "for example:\n",
    "\n",
    "a=0\n",
    "\n",
    "def fun1(a):\n",
    "\n",
    "    a=5\n",
    "    \n",
    "    for i in range(10):\n",
    "    \n",
    "        a=10\n",
    "        \n",
    "        for j in range(10):\n",
    "        \n",
    "            a=100\n",
    "            \n",
    "            \n",
    "Here the true global value of a is 0 and other values of a are either local or nested local.\n",
    "\n",
    "In the fun1 function the first local scope of a is initiated and in this scope local value of a is 5 which is relatively global for other nested local values of a \n",
    "\n",
    "In the first loop a nested local scope is intiated for a and its value here is 10 which is relatively global for the next nested local value of a"
   ]
  },
  {
   "cell_type": "markdown",
   "id": "a2cf794f",
   "metadata": {},
   "source": [
    "### 6. What happens to variables in a local scope when the function call returns?"
   ]
  },
  {
   "cell_type": "markdown",
   "id": "fcd0be18",
   "metadata": {},
   "source": [
    "### Answer:\n",
    "When a function call returns, the local variables of that function lose their hierarchy and become inactive.\n",
    "Only while executing that function those variables perform their tasks as per assignment if the function is called again."
   ]
  },
  {
   "cell_type": "markdown",
   "id": "3e7e4f59",
   "metadata": {},
   "source": [
    "### 7. What is the concept of a return value? Is it possible to have a return value in an expression?"
   ]
  },
  {
   "cell_type": "markdown",
   "id": "4b9892a7",
   "metadata": {},
   "source": [
    "### Answer:\n",
    "Functions can be categorized as two basic categories.\n",
    "i)NON RETURN type \n",
    "ii)RETURN type\n",
    "\n",
    "In case of a return type function, the function returns a value of a particular datatype i.e. int, str, list etc. which can either be printed with the help of print() function or retrieved by another variable while calling the function and used further.\n",
    "\n",
    "Yes it is possible to have a return value in an expression."
   ]
  },
  {
   "cell_type": "markdown",
   "id": "41f21b34",
   "metadata": {},
   "source": [
    "### 8. If a function does not have a return statement, what is the return value of a call to that function?"
   ]
  },
  {
   "cell_type": "markdown",
   "id": "652c5870",
   "metadata": {},
   "source": [
    "### Answer:\n",
    "If a function does not have a return statement, the return value of a call to that function is - None"
   ]
  },
  {
   "cell_type": "markdown",
   "id": "75c2015d",
   "metadata": {},
   "source": [
    "### 9. How do you make a function variable refer to the global variable?"
   ]
  },
  {
   "cell_type": "markdown",
   "id": "b45b583c",
   "metadata": {},
   "source": [
    "### Answer:\n",
    "global keyword is used before variable name to make a function variable refere to the global variable."
   ]
  },
  {
   "cell_type": "markdown",
   "id": "8203da7b",
   "metadata": {},
   "source": [
    "### 10. What is the data type of None?"
   ]
  },
  {
   "cell_type": "markdown",
   "id": "e10d9cc4",
   "metadata": {},
   "source": [
    "### Answer:\n",
    "The datatype of None is - NoneType "
   ]
  },
  {
   "cell_type": "markdown",
   "id": "09492331",
   "metadata": {},
   "source": [
    "### 11. What does the sentence import areallyourpetsnamederic do?"
   ]
  },
  {
   "cell_type": "markdown",
   "id": "e51f4c12",
   "metadata": {},
   "source": [
    "### Answer:\n",
    "import areallyourpetsnamederic will import the module named areallyourpetsnamederic which is not a original python module.\n",
    "Which means that particular module must be created first manually otherwise the statement will cause an error."
   ]
  },
  {
   "cell_type": "markdown",
   "id": "45942fb1",
   "metadata": {},
   "source": [
    "### 12. If you had a bacon() feature in a spam module, what would you call it after importing spam?"
   ]
  },
  {
   "cell_type": "markdown",
   "id": "82ebcf9c",
   "metadata": {},
   "source": [
    "### Answer:\n",
    "import spam\n",
    "\n",
    "spam.bacon()"
   ]
  },
  {
   "cell_type": "markdown",
   "id": "31512513",
   "metadata": {},
   "source": [
    "### 13. What can you do to save a programme from crashing if it encounters an error?"
   ]
  },
  {
   "cell_type": "markdown",
   "id": "2644be19",
   "metadata": {},
   "source": [
    "### Answer:\n",
    "we can use try clause and put the statement which can cause error, in it to prevent the program from crashing. "
   ]
  },
  {
   "cell_type": "markdown",
   "id": "21abaf76",
   "metadata": {},
   "source": [
    "### 14. What is the purpose of the try clause? What is the purpose of the except clause?"
   ]
  },
  {
   "cell_type": "markdown",
   "id": "c17f342d",
   "metadata": {},
   "source": [
    "### Answer:\n",
    "Purpose of the try clause is to handle errors and prevent programs from crashing.\n",
    "\n",
    "Except clause in the other hand is used to execute the programs remaining body or other subsitutionary conditions."
   ]
  }
 ],
 "metadata": {
  "kernelspec": {
   "display_name": "Python 3",
   "language": "python",
   "name": "python3"
  },
  "language_info": {
   "codemirror_mode": {
    "name": "ipython",
    "version": 3
   },
   "file_extension": ".py",
   "mimetype": "text/x-python",
   "name": "python",
   "nbconvert_exporter": "python",
   "pygments_lexer": "ipython3",
   "version": "3.8.8"
  }
 },
 "nbformat": 4,
 "nbformat_minor": 5
}
