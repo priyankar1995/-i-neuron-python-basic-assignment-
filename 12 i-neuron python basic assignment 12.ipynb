{
 "cells": [
  {
   "cell_type": "markdown",
   "id": "584c9663",
   "metadata": {},
   "source": [
    "### 1. In what modes should the PdfFileReader() and PdfFileWriter() File objects will be opened?"
   ]
  },
  {
   "cell_type": "markdown",
   "id": "23cd436e",
   "metadata": {},
   "source": [
    "### Answer:\n",
    "PdfFileReader() needs to be opened in read-binary mode by passing 'rb' as the second argument to open(). Likewise, the File object passed to PyPDF2. \n",
    "\n",
    "PdfFileWriter() needs to be opened in write-binary mode with 'wb'."
   ]
  },
  {
   "cell_type": "markdown",
   "id": "6d8ba888",
   "metadata": {},
   "source": [
    "### 2. From a PdfFileReader object, how do you get a Page object for page 5?"
   ]
  },
  {
   "cell_type": "markdown",
   "id": "275c720a",
   "metadata": {},
   "source": [
    "### Answer:\n",
    "Calling getPage(4) will return a Page object for About this Book, since page 0 is the first page.\n",
    "\n",
    "pageObj = pdfReader.getPage(4)"
   ]
  },
  {
   "cell_type": "markdown",
   "id": "b3bc1136",
   "metadata": {},
   "source": [
    "### 3. What PdfFileReader variable stores the number of pages in the PDF document?"
   ]
  },
  {
   "cell_type": "markdown",
   "id": "7a4c05c1",
   "metadata": {},
   "source": [
    "### Answer:\n",
    "The total number of pages in the document is stored in the numPages attribute of a PdfFileReader object."
   ]
  },
  {
   "cell_type": "markdown",
   "id": "3debed9f",
   "metadata": {},
   "source": [
    "### 4. If a PdfFileReader object’s PDF is encrypted with the password swordfish, what must you do before you can obtain Page objects from it?"
   ]
  },
  {
   "cell_type": "markdown",
   "id": "6f436c83",
   "metadata": {},
   "source": [
    "### Answer:\n",
    "Call decrypt('swordfish')"
   ]
  },
  {
   "cell_type": "markdown",
   "id": "76b670c3",
   "metadata": {},
   "source": [
    "### 5. What methods do you use to rotate a page?"
   ]
  },
  {
   "cell_type": "markdown",
   "id": "0747aa11",
   "metadata": {},
   "source": [
    "### Answer:\n",
    "The rotateClockwise() and rotateCounterClockwise() methods. The degrees to rotate is passed as an integer argument."
   ]
  },
  {
   "cell_type": "markdown",
   "id": "4fc4741f",
   "metadata": {},
   "source": [
    "### 6. What is the difference between a Run object and a Paragraph object?"
   ]
  },
  {
   "cell_type": "markdown",
   "id": "9df7a576",
   "metadata": {},
   "source": [
    "### Answer:\n",
    "A document contains multiple paragraphs. A paragraph begins on a new line and contains multiple runs. Runs are contiguous groups of characters within a paragraph."
   ]
  },
  {
   "cell_type": "markdown",
   "id": "60391b0b",
   "metadata": {},
   "source": [
    "### 7. How do you obtain a list of Paragraph objects for a Document object that’s stored in a variable named doc?"
   ]
  },
  {
   "cell_type": "markdown",
   "id": "7c5a22df",
   "metadata": {},
   "source": [
    "### Answer:\n",
    "we can obtain that by using doc.paragraphs."
   ]
  },
  {
   "cell_type": "markdown",
   "id": "5c3c5686",
   "metadata": {},
   "source": [
    "### 8. What type of object has bold, underline, italic, strike, and outline variables?"
   ]
  },
  {
   "cell_type": "markdown",
   "id": "6addea66",
   "metadata": {},
   "source": [
    "### Answer:\n",
    " A Run object has these variables (not a paragraph)"
   ]
  },
  {
   "cell_type": "markdown",
   "id": "a66d8e18",
   "metadata": {},
   "source": [
    "### 9. What is the difference between False, True, and None for the bold variable?"
   ]
  },
  {
   "cell_type": "markdown",
   "id": "bafd92e5",
   "metadata": {},
   "source": [
    "### Answer:\n",
    "True always makes the Run object bolded .\n",
    "\n",
    "False makes it always not bolded, no matter what the style's bold setting is. \n",
    "\n",
    "None will make the Run object just use the style's bold setting."
   ]
  },
  {
   "cell_type": "markdown",
   "id": "6d4d56db",
   "metadata": {},
   "source": [
    "### 10. How do you create a Document object for a new Word document?"
   ]
  },
  {
   "cell_type": "markdown",
   "id": "82812092",
   "metadata": {},
   "source": [
    "### Answer:\n",
    "Call the docx.Document() function."
   ]
  },
  {
   "cell_type": "markdown",
   "id": "7075c51a",
   "metadata": {},
   "source": [
    "### 11. How do you add a paragraph with the text 'Hello, there!' to a Document object stored in a variable named doc ?\n"
   ]
  },
  {
   "cell_type": "markdown",
   "id": "46b59bae",
   "metadata": {},
   "source": [
    "### Answer:\n",
    "doc.add_paragraph('Hello there!')"
   ]
  },
  {
   "cell_type": "markdown",
   "id": "bf3deeb9",
   "metadata": {},
   "source": [
    "### 12. What integers represent the levels of headings available in Word documents?"
   ]
  },
  {
   "cell_type": "markdown",
   "id": "ea0ddf33",
   "metadata": {},
   "source": [
    "### Answer:\n",
    "The integers 0,1,2,3, and 4"
   ]
  }
 ],
 "metadata": {
  "kernelspec": {
   "display_name": "Python 3",
   "language": "python",
   "name": "python3"
  },
  "language_info": {
   "codemirror_mode": {
    "name": "ipython",
    "version": 3
   },
   "file_extension": ".py",
   "mimetype": "text/x-python",
   "name": "python",
   "nbconvert_exporter": "python",
   "pygments_lexer": "ipython3",
   "version": "3.8.8"
  }
 },
 "nbformat": 4,
 "nbformat_minor": 5
}
