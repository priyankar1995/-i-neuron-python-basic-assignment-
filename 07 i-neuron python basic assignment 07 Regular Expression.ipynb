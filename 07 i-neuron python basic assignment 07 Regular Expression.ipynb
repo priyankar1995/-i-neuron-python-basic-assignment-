{
 "cells": [
  {
   "cell_type": "markdown",
   "id": "cd3440dd",
   "metadata": {},
   "source": [
    "### 1. What is the name of the feature responsible for generating Regex objects?"
   ]
  },
  {
   "cell_type": "markdown",
   "id": "a073622e",
   "metadata": {},
   "source": [
    "### ANSWER:\n",
    " The re.compile() function returns Regex objects."
   ]
  },
  {
   "cell_type": "markdown",
   "id": "88d3e494",
   "metadata": {},
   "source": [
    "### 2. Why do raw strings often appear in Regex objects?"
   ]
  },
  {
   "cell_type": "markdown",
   "id": "7f95cf19",
   "metadata": {},
   "source": [
    "### ANSWER:\n",
    "Raw strings are often used in Regex Objects so that backslashes do not have to be escaped."
   ]
  },
  {
   "cell_type": "markdown",
   "id": "9341fe9a",
   "metadata": {},
   "source": [
    "### 3. What is the return value of the search() method?"
   ]
  },
  {
   "cell_type": "markdown",
   "id": "52201816",
   "metadata": {},
   "source": [
    "### ANSWER:\n",
    "The search() method returns Match objects."
   ]
  },
  {
   "cell_type": "markdown",
   "id": "b396cb4e",
   "metadata": {},
   "source": [
    "### 4. From a Match item, how do you get the actual strings that match the pattern?"
   ]
  },
  {
   "cell_type": "markdown",
   "id": "40d3863e",
   "metadata": {},
   "source": [
    "### ANSWER:\n",
    "The group() method returns strings of the matched text."
   ]
  },
  {
   "cell_type": "markdown",
   "id": "01441d4d",
   "metadata": {},
   "source": [
    "### 5. In the regex which created from the r'(\\d\\d\\d)-(\\d\\d\\d-\\d\\d\\d\\d)', what does group zero cover? Group 2? Group 1?"
   ]
  },
  {
   "cell_type": "markdown",
   "id": "3265fdca",
   "metadata": {},
   "source": [
    "### ANSWER:\n",
    "Group 0 is the entire match, group 1 covers the first set of parentheses, and group 2 covers the second set of parentheses."
   ]
  },
  {
   "cell_type": "markdown",
   "id": "34356ec4",
   "metadata": {},
   "source": [
    "### 6. In standard expression syntax, parentheses and intervals have distinct meanings. How can you tell a regex that you want it to fit real parentheses and periods?\n"
   ]
  },
  {
   "cell_type": "markdown",
   "id": "6a8551be",
   "metadata": {},
   "source": [
    "### ANSWER:\n",
    "Periods and parentheses can be escaped with a backslash: \\., \\(, and \\)."
   ]
  },
  {
   "cell_type": "markdown",
   "id": "b5ae3b64",
   "metadata": {},
   "source": [
    "### 7. The findall() method returns a string list or a list of string tuples. What causes it to return one of the two options?\n"
   ]
  },
  {
   "cell_type": "markdown",
   "id": "46949317",
   "metadata": {},
   "source": [
    "### ANSWER: \n",
    "If the regex has no groups, a list of strings is returned. If the regex has groups, a list of tuples of strings is returned."
   ]
  },
  {
   "cell_type": "markdown",
   "id": "56e15928",
   "metadata": {},
   "source": [
    "### 8. In standard expressions, what does the | character mean?\n"
   ]
  },
  {
   "cell_type": "markdown",
   "id": "d8fe8caa",
   "metadata": {},
   "source": [
    "### ANSWER:\n",
    "The | character signifies matching \"either, or\" between two groups."
   ]
  },
  {
   "cell_type": "markdown",
   "id": "f977c716",
   "metadata": {},
   "source": [
    "### 9. In regular expressions, what does the character stand for?"
   ]
  },
  {
   "cell_type": "markdown",
   "id": "39c5265b",
   "metadata": {},
   "source": [
    "### ANSWER:\n",
    " The ? character can either mean \"match zero or one of the preceding group\" or be used to signify nongreedy matching."
   ]
  },
  {
   "cell_type": "markdown",
   "id": "11f1d454",
   "metadata": {},
   "source": [
    "### 10.In regular expressions, what is the difference between the + and * characters?\n"
   ]
  },
  {
   "cell_type": "markdown",
   "id": "c9fbfa53",
   "metadata": {},
   "source": [
    "### ANSWER:  \n",
    "The + matches one or more. The * matches zero or more.\n"
   ]
  },
  {
   "cell_type": "markdown",
   "id": "2f915b38",
   "metadata": {},
   "source": [
    "### 11. What is the difference between {4} and {4,5} in regular expression?"
   ]
  },
  {
   "cell_type": "markdown",
   "id": "c32feb7a",
   "metadata": {},
   "source": [
    "### ANSWER:\n",
    "The {4} matches exactly four instances of the preceding group. The {4,5} matches between four and five instances."
   ]
  },
  {
   "cell_type": "markdown",
   "id": "a86ac0ff",
   "metadata": {},
   "source": [
    "### 12. What do you mean by the \\d, \\w, and \\s shorthand character classes signify in regular expressions?"
   ]
  },
  {
   "cell_type": "markdown",
   "id": "cda57339",
   "metadata": {},
   "source": [
    "### ANSWER:\n",
    "\\d returns a match where the string contains digits (numbers from 0-9)\n",
    "\n",
    "\\w returns a match where the string contains any word characters (characters from a to Z, digits from 0-9, and the underscore _ character)\n",
    "\n",
    "\\s returns a match where the string contains a white space character\n",
    "\n"
   ]
  },
  {
   "cell_type": "code",
   "execution_count": 3,
   "id": "f802df93",
   "metadata": {},
   "outputs": [
    {
     "name": "stdout",
     "output_type": "stream",
     "text": [
      "[]\n",
      "No match\n"
     ]
    }
   ],
   "source": [
    "import re\n",
    "text = \"My name is Sabretooth\"\n",
    "x = re.findall(\"\\d\", text)\n",
    "print(x)\n",
    "if x:\n",
    "  print(\"Yes, there is at least one match!\")\n",
    "else:\n",
    "  print(\"No match\")"
   ]
  },
  {
   "cell_type": "code",
   "execution_count": 4,
   "id": "4584d493",
   "metadata": {},
   "outputs": [
    {
     "name": "stdout",
     "output_type": "stream",
     "text": [
      "['M', 'y', 'n', 'a', 'm', 'e', 'i', 's', 'a', 's', 'h', 'i', 's', 'h']\n",
      "Yes, there is at least one match!\n"
     ]
    }
   ],
   "source": [
    "import re\n",
    "text = \"My name is Sabretooth\"\n",
    "x = re.findall(\"\\w\", text)\n",
    "print(x)\n",
    "if x:\n",
    "  print(\"Yes, there is at least one match!\")\n",
    "else:\n",
    "  print(\"No match\")"
   ]
  },
  {
   "cell_type": "code",
   "execution_count": 5,
   "id": "9c1147a0",
   "metadata": {},
   "outputs": [
    {
     "name": "stdout",
     "output_type": "stream",
     "text": [
      "[' ', ' ', ' ']\n",
      "Yes, there is at least one match!\n"
     ]
    }
   ],
   "source": [
    "import re\n",
    "text = \"My name is Sabretooth\"\n",
    "x = re.findall(\"\\s\", text)\n",
    "print(x)\n",
    "if x:\n",
    "  print(\"Yes, there is at least one match!\")\n",
    "else:\n",
    "  print(\"No match\")"
   ]
  },
  {
   "cell_type": "markdown",
   "id": "21a86f85",
   "metadata": {},
   "source": [
    "### 13. What do means by \\D, \\W, and \\S shorthand character classes signify in regular expressions?"
   ]
  },
  {
   "cell_type": "markdown",
   "id": "ae455f81",
   "metadata": {},
   "source": [
    "### ANSWER:\n",
    "\\D returns a match where the string DOES NOT contain digits\n",
    "\n",
    "\\W returns a match where the string DOES NOT contain any word characters\n",
    "\n",
    "\\S returns a match where the string DOES NOT contain a white space character"
   ]
  },
  {
   "cell_type": "markdown",
   "id": "f29b5072",
   "metadata": {},
   "source": [
    "### 14. What is the difference between .*? and .*?"
   ]
  },
  {
   "cell_type": "markdown",
   "id": "7e07b168",
   "metadata": {},
   "source": [
    "### ANSWER:"
   ]
  },
  {
   "cell_type": "code",
   "execution_count": 7,
   "id": "ab9d1dd2",
   "metadata": {},
   "outputs": [],
   "source": [
    "\n",
    "# .*? this will check 0 or 1 occurances of any character while .* checks 0 or more  occurances of any characters. In this scenario\n",
    " \n",
    "# .* will be implemented and check for  0 or more  occurances of any characters. examples are mentioned below"
   ]
  },
  {
   "cell_type": "code",
   "execution_count": 8,
   "id": "6c8be785",
   "metadata": {},
   "outputs": [
    {
     "name": "stdout",
     "output_type": "stream",
     "text": [
      "['hello']\n"
     ]
    }
   ],
   "source": [
    "import re\n",
    "txt = \"hello ashish\"\n",
    "#Search for a sequence that starts with \"he\", followed by 0 or more  (any) characters, and an \"o\":\n",
    "x = re.findall(\"he.*o\", txt)\n",
    "print(x)"
   ]
  },
  {
   "cell_type": "code",
   "execution_count": 9,
   "id": "81054838",
   "metadata": {},
   "outputs": [
    {
     "name": "stdout",
     "output_type": "stream",
     "text": [
      "[]\n"
     ]
    }
   ],
   "source": [
    "import re\n",
    "txt = \"hello ashish\"\n",
    "#Search for a sequence that starts with \"he\", followed by 0 or 1  (any) character, and an \"o\":\n",
    "x = re.findall(\"he.?o\", txt)\n",
    "print(x)\n",
    "#This time we got no match, because there were not zero, not one, but two characters between \"he\" and the \"o\""
   ]
  },
  {
   "cell_type": "markdown",
   "id": "a9a07042",
   "metadata": {},
   "source": [
    "### 15. What is the syntax for matching both numbers and lowercase letters with a character class?\n"
   ]
  },
  {
   "cell_type": "markdown",
   "id": "c501e079",
   "metadata": {},
   "source": [
    "### ANSWER:"
   ]
  },
  {
   "cell_type": "code",
   "execution_count": 13,
   "id": "e9cf9ecc",
   "metadata": {},
   "outputs": [
    {
     "name": "stdout",
     "output_type": "stream",
     "text": [
      "['m', 'y', 'n', 'a', 'm', 'e', 'i', 's', 'b', 'a', 'l', 'd', 'w', 'i', 'n', '1', '2', '3', '5', '7', '0']\n",
      "Yes, there is at least one match!\n"
     ]
    }
   ],
   "source": [
    "\n",
    "import re\n",
    "txt = \"my name is baldwin 123570\"\n",
    "#Check if the string has any characters between a and z:\n",
    "x = re.findall(\"[a-z,0-9]\", txt)\n",
    "print(x)\n",
    "if x:\n",
    "  print(\"Yes, there is at least one match!\")\n",
    "else:\n",
    "  print(\"No match\")"
   ]
  },
  {
   "cell_type": "markdown",
   "id": "41f420f2",
   "metadata": {},
   "source": [
    "### 16. What is the procedure for making a normal expression in regax case insensitive?"
   ]
  },
  {
   "cell_type": "markdown",
   "id": "8177b7d9",
   "metadata": {},
   "source": [
    "### ANSWER:\n",
    "using re.IGNORECASE is the procedure to make case insensitive regular expressions"
   ]
  },
  {
   "cell_type": "code",
   "execution_count": 16,
   "id": "8192e5f6",
   "metadata": {},
   "outputs": [
    {
     "name": "stdout",
     "output_type": "stream",
     "text": [
      "['M', 'y', 'n', 'a', 'm', 'e', 'i', 's', 'p', 'u', 't', 'i', 'n', '1', '2', '3', '5', '0']\n",
      "Yes, there is at least one match!\n"
     ]
    }
   ],
   "source": [
    "import re\n",
    "txt = \"My name is putin 12350\"\n",
    "#Check if the string has any characters between a and z:\n",
    "x = re.findall(\"[A-Z,a-z,0-9]\", txt, re.IGNORECASE)\n",
    "print(x)\n",
    "if x:\n",
    "  print(\"Yes, there is at least one match!\")\n",
    "else:\n",
    "  print(\"No match\")"
   ]
  },
  {
   "cell_type": "markdown",
   "id": "f5d3e366",
   "metadata": {},
   "source": [
    "### 17. What does the . character normally match? What does it match if re.DOTALL is passed as 2nd argument in re.compile()?"
   ]
  },
  {
   "cell_type": "markdown",
   "id": "67d571b8",
   "metadata": {},
   "source": [
    "### ANSWER:\n",
    "If re.DOTALL is passed as the second argument to re. compile(), then the dot will also match newline characters."
   ]
  },
  {
   "cell_type": "markdown",
   "id": "011b99f9",
   "metadata": {},
   "source": [
    "### 18. If numReg = re.compile(r'\\d+'), what will numRegex.sub('X', '11 drummers, 10 pipers, five rings, 4 hen') return?"
   ]
  },
  {
   "cell_type": "markdown",
   "id": "a2e9ee2f",
   "metadata": {},
   "source": [
    "### ANSWER:\n",
    "numRegex.sub('X', '11 drummers, 10 pipers, five rings, 4 hen') will relace one or many matches of \"X\" \n",
    "with \"11 drummers, 10 pipers, five rings, 4 hen\""
   ]
  },
  {
   "cell_type": "markdown",
   "id": "1c5a4201",
   "metadata": {},
   "source": [
    "### 19. What does passing re.VERBOSE as the 2nd argument to re.compile() allow to do?"
   ]
  },
  {
   "cell_type": "markdown",
   "id": "80876717",
   "metadata": {},
   "source": [
    "### ANSWER:\n",
    "re.VERBOSE flag allows us to write regular expressions that look nicer and are more readable by allowing us to visually separate logical sections of the pattern and add comments. \n",
    "\n",
    "Whitespace within the pattern is ignored, except when in a character class, or when preceded by an unescaped backslash, or within tokens like *?, (?: or (?P. When a line contains a # that is not in a character class and is not preceded by an unescaped backslash, all characters from the leftmost such # through the end of the line are ignored."
   ]
  },
  {
   "cell_type": "code",
   "execution_count": 19,
   "id": "b5d9170c",
   "metadata": {},
   "outputs": [
    {
     "name": "stdout",
     "output_type": "stream",
     "text": [
      "pagoda.kaisen.kr96@gmail.com is Valid. Details are as follow:\n",
      "Local:pagoda.kaisen.kr96\n",
      "Domain:gmail\n",
      "Top Level domain:com\n",
      "\n",
      "sukunaka123@yahoo.com@ is Invalid\n",
      "rontozen@.com is Invalid\n"
     ]
    }
   ],
   "source": [
    "import re\n",
    "def validate_email(email):\n",
    "\t# RegexObject = re.compile( Regular expression, flag )\n",
    "\t# Compiles a regular expression pattern into a regular expression object\n",
    "\tregex_email=re.compile(r\"\"\"\n",
    "\t\t\t\t\t\t^([a-z0-9_\\.-]+)\t\t\t\t # local Part\n",
    "\t\t\t\t\t\t@\t\t\t\t\t\t\t           # single @ sign\n",
    "\t\t\t\t\t\t\t([0-9a-z\\.-]+)\t\t\t\t # Domain name\n",
    "\t\t\t\t\t\t\\.\t\t\t\t\t\t\t         # single Dot .\n",
    "\t\t\t\t\t\t\t([a-z]{2,6})$\t\t\t\t   # Top level Domain\t\n",
    "\t\t\t\t\t\t\"\"\",re.VERBOSE | re.IGNORECASE)\n",
    "\n",
    "\t# RegexObject is matched with the desired string using fullmatch function\n",
    "\t# In case a match is found, search() returns a MatchObject Instance\n",
    "\tres=regex_email.fullmatch(email)\n",
    "\t#If match is found, the string is valid\n",
    "\tif res:\n",
    "\t\tprint(\"{} is Valid. Details are as follow:\".format(email))\n",
    "\t\t#prints first part/personal detail of Email Id\n",
    "\t\tprint(\"Local:{}\".format(res.group(1)))\t\n",
    "\t\t#prints Domain Name of Email Id\n",
    "\t\tprint(\"Domain:{}\".format(res.group(2)))\t\n",
    "\t\t#prints Top Level Domain Name of Email Id\n",
    "\t\tprint(\"Top Level domain:{}\".format(res.group(3)))\n",
    "\t\tprint()\t\t\n",
    "\telse:\n",
    "\t\t#If match is not found,string is invalid\n",
    "\t\tprint(\"{} is Invalid\".format(email))\n",
    "# Driver Code\n",
    "validate_email(\"pagoda.kaisen.kr96@gmail.com\")\n",
    "validate_email(\"sukunaka123@yahoo.com@\")\n",
    "validate_email(\"rontozen@.com\")"
   ]
  },
  {
   "cell_type": "markdown",
   "id": "63791eed",
   "metadata": {},
   "source": [
    "### 20. How would you write a regex that match a number with comma for every three digits? It must match the given following:\n",
    "'42'\n",
    "\n",
    "'1,234'\n",
    "\n",
    "'6,368,745'\n",
    "\n",
    "but not the following:\n",
    "\n",
    "'12,34,567' (which has only two digits between the commas)\n",
    "\n",
    "'1234' (which lacks commas)\n"
   ]
  },
  {
   "cell_type": "markdown",
   "id": "eb8d8149",
   "metadata": {},
   "source": [
    "### ANSWER:"
   ]
  },
  {
   "cell_type": "code",
   "execution_count": 20,
   "id": "311e555a",
   "metadata": {},
   "outputs": [
    {
     "name": "stdout",
     "output_type": "stream",
     "text": [
      "Enter the input values:6,368,745\n",
      "['6,368,745']\n",
      "Yes, there is at least one match!\n"
     ]
    }
   ],
   "source": [
    "import re\n",
    "txt = input(\"Enter the input values:\")\n",
    "x = re.findall(\"^((?:\\d{1,3},(?:\\d{3},)*\\d{3})|(?:\\d{1,3}))$\", txt)\n",
    "print(x)\n",
    "if x:\n",
    "  print(\"Yes, there is at least one match!\")\n",
    "else:\n",
    "  print(\"No match\")"
   ]
  },
  {
   "cell_type": "markdown",
   "id": "559a33fb",
   "metadata": {},
   "source": [
    "### 21. How would you write a regex that matches the full name of someone whose last name is Watanabe? You can assume that the first name that comes before it will always be one word that begins with a capital letter. The regex must match the following:\n",
    "'Haruto Watanabe'\n",
    "'Alice Watanabe'\n",
    "'RoboCop Watanabe'\n",
    "but not the following:\n",
    "'haruto Watanabe' (where the first name is not capitalized)\n",
    "'Mr. Watanabe' (where the preceding word has a nonletter character)\n",
    "'Watanabe' (which has no first name)\n",
    "'Haruto watanabe' (where Watanabe is not capitalized)\n"
   ]
  },
  {
   "cell_type": "markdown",
   "id": "beba8a35",
   "metadata": {},
   "source": [
    "### ANSWER:"
   ]
  },
  {
   "cell_type": "code",
   "execution_count": 22,
   "id": "0368d4d4",
   "metadata": {},
   "outputs": [
    {
     "name": "stdout",
     "output_type": "stream",
     "text": [
      "Haruto Watanabe\n",
      "\n",
      "\n",
      "Next, the result of using my regex with search over each possible name to match:\n",
      "Haruto Watanabe\n",
      "Alice Watanabe\n",
      "RoboCop Watanabe\n",
      "\n",
      "Finally, the result of using the same regex with findall (same text as in first search):\n",
      "Haruto Watanabe\n",
      "Alice Watanabe\n",
      "RoboCop Watanabe\n"
     ]
    }
   ],
   "source": [
    "\n",
    "import re\n",
    "name_regex = re.compile(r'[A-Z](?:\\w)+\\sWatanabe')\n",
    "text = \"The regex must match the following: 'Haruto Watanabe' 'Alice Watanabe' 'RoboCop Watanabe' but not the following: 'haruto Watanabe' (where the first name is not capitalized) 'Mr. Watanabe' (where the preceding word has a nonletter character) 'Watanabe'(which has no first name) 'Haruto watanabe'.\"\n",
    "mo0 = name_regex.search(text)\n",
    "found = mo0.group()\n",
    "print(found + '\\n\\n')\n",
    "mo1 = name_regex.search('Haruto Watanabe')\n",
    "mo2 = name_regex.search('Alice Watanabe')\n",
    "mo3 = name_regex.search('RoboCop Watanabe')\n",
    "mo4 = name_regex.search('Watanabe')\n",
    "mo5 = name_regex.search('Mr. Watanabe')\n",
    "mo6 = name_regex.search('Haruto watanabe')\n",
    "mo7 = name_regex.search('haruto watanabe')\n",
    "mo_l = [mo1, mo2, mo3, mo4, mo5, mo6, mo7]\n",
    "print(\"Next, the result of using my regex with search over each possible name to match:\")\n",
    "try:\n",
    "    for mo_x in mo_l:\n",
    "        mo = mo_x.group()\n",
    "        print(mo)\n",
    "except AttributeError:\n",
    "    pass\n",
    "print(\"\\nFinally, the result of using the same regex with findall (same text as in first search):\")\n",
    "all_matches = re.findall(name_regex, text)\n",
    "for match in all_matches:\n",
    "    print(match)"
   ]
  },
  {
   "cell_type": "markdown",
   "id": "cc9f8cd5",
   "metadata": {},
   "source": [
    "### 22. How would you write a regex that matches a sentence where the first word is either Alice, Bob, or Carol; the second word is either eats, pets, or throws; the third word is apples, cats, or baseballs; and the sentence ends with a period? This regex should be case-insensitive. It must match the following:\n",
    "'Alice eats apples.'\n",
    "'Bob pets cats.'\n",
    "'Carol throws baseballs.'\n",
    "'Alice throws Apples.'\n",
    "'BOB EATS CATS.'\n",
    "but not the following:\n",
    "'RoboCop eats apples.'\n",
    "'ALICE THROWS FOOTBALLS.'\n",
    "'Carol eats 7 cats.'"
   ]
  },
  {
   "cell_type": "markdown",
   "id": "2b097f31",
   "metadata": {},
   "source": [
    "### ANSWER:"
   ]
  },
  {
   "cell_type": "code",
   "execution_count": 23,
   "id": "89c7bcc8",
   "metadata": {},
   "outputs": [
    {
     "name": "stdout",
     "output_type": "stream",
     "text": [
      "Alice eats apples.\n",
      "\n",
      "\n",
      "The result of using my regex with search over each possible match:\n",
      "('Alice', 'eats', 'apples')\n",
      "('Bob', 'pets', 'cats')\n",
      "('Carol', 'throws', 'baseballs')\n",
      "('Alice', 'throws', 'Apples')\n",
      "('BOB', 'EATS', 'CATS')\n"
     ]
    }
   ],
   "source": [
    "import re\n",
    "name_regex = re.compile(r'(Alice|Bob|Carol)\\s(eats|pets|throws)\\s(apples|cats|baseballs)\\.', re.IGNORECASE)\n",
    "text = \"The regex must match the following: It must match the following: 'Alice eats apples.' 'Bob pets cats.' 'Carol throws baseballs.' 'Alice throws Apples.' 'BOB EATS CATS.' but not the following: 'RoboCop eats apples.' 'ALICE THROWS FOOTBALLS.' 'Carol eats 7 cats.'\"\n",
    "mo0 = name_regex.search(text)\n",
    "found = mo0.group()\n",
    "print(found + '\\n\\n')\n",
    "mo1 = name_regex.search('Alice eats apples')\n",
    "mo2 = name_regex.search('Bob pets cats')\n",
    "mo3 = name_regex.search('Carol throws baseballs')\n",
    "mo4 = name_regex.search('Alice throws Apples')\n",
    "mo5 = name_regex.search('BOB EATS CATS')\n",
    "mo6 = name_regex.search('RoboCop eats apples')\n",
    "mo7 = name_regex.search('ALICE THROWS FOOTBALLS')\n",
    "mo8 = name_regex.search('Carol eats 7 cats')\n",
    "\n",
    "mo_l = [mo1, mo2, mo3, mo4, mo5, mo6, mo7, mo8]\n",
    "print(\"The result of using my regex with search over each possible match:\")\n",
    "try:\n",
    "    for mo_x in mo_l:\n",
    "        mo = mo_x.group()\n",
    "        print(mo)\n",
    "except AttributeError:\n",
    "    pass\n",
    "all_matches = re.findall(name_regex, text)\n",
    "for match in all_matches:\n",
    "    print(match)"
   ]
  }
 ],
 "metadata": {
  "kernelspec": {
   "display_name": "Python 3",
   "language": "python",
   "name": "python3"
  },
  "language_info": {
   "codemirror_mode": {
    "name": "ipython",
    "version": 3
   },
   "file_extension": ".py",
   "mimetype": "text/x-python",
   "name": "python",
   "nbconvert_exporter": "python",
   "pygments_lexer": "ipython3",
   "version": "3.8.8"
  }
 },
 "nbformat": 4,
 "nbformat_minor": 5
}
