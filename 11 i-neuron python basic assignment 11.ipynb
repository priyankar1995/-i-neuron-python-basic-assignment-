{
 "cells": [
  {
   "cell_type": "markdown",
   "id": "14145a8d",
   "metadata": {},
   "source": [
    "### 1. Create an assert statement that throws an AssertionError if the variable spam is a negative integer."
   ]
  },
  {
   "cell_type": "markdown",
   "id": "e45e7aea",
   "metadata": {},
   "source": [
    "### Answer:"
   ]
  },
  {
   "cell_type": "code",
   "execution_count": null,
   "id": "c40100f6",
   "metadata": {},
   "outputs": [],
   "source": [
    "spam  = int(input(\"Enter Value:\"))\n",
    "assert spam >= 0 \n",
    "if spam <= 0:\n",
    "  print(\"Negative Integer\")\n",
    "else:\n",
    "  print(\"ok\")"
   ]
  },
  {
   "cell_type": "code",
   "execution_count": null,
   "id": "29d5baf9",
   "metadata": {},
   "outputs": [],
   "source": [
    "spam  = int(input(\"Enter Value:\"))\n",
    "assert spam >= 0 \n",
    "if spam <= 0:\n",
    "  print(\"Negative Integer\")\n",
    "else:\n",
    "  print(\"ok\")"
   ]
  },
  {
   "cell_type": "markdown",
   "id": "e8a86fd4",
   "metadata": {},
   "source": [
    "### 2. Write an assert statement that triggers an AssertionError if the variables eggs and bacon contain strings that are the same as each other, even if their cases are different (that is, 'hello' and 'hello' are considered the same, and 'goodbye' and 'GOODbye' are also considered the same).\n"
   ]
  },
  {
   "cell_type": "markdown",
   "id": "a239ac5d",
   "metadata": {},
   "source": [
    "### Answer: \n",
    "assert eggs.lower() != bacon.lower(), 'The eggs and bacon variables are the same!' or assert eggs.upper() != bacon.upper(), 'The eggs and bacon variables are the same!'"
   ]
  },
  {
   "cell_type": "markdown",
   "id": "ce8a313f",
   "metadata": {},
   "source": [
    "### 3. Create an assert statement that throws an AssertionError every time.\n"
   ]
  },
  {
   "cell_type": "markdown",
   "id": "0da57d95",
   "metadata": {},
   "source": [
    "### Answer:\n",
    "assert False, 'This assertion always triggers.'"
   ]
  },
  {
   "cell_type": "markdown",
   "id": "e813b41d",
   "metadata": {},
   "source": [
    "### 4. What are the two lines that must be present in your software in order to call logging.debug()?\n"
   ]
  },
  {
   "cell_type": "markdown",
   "id": "63a76bc4",
   "metadata": {},
   "source": [
    "### Answer:\n",
    "To be able to call logging.debug(), you must have these two lines at the start of your program:\n",
    "import logging logging.basicConfig(level=logging.DEBUG, format=' %(asctime)s - %(levelname)s - %(message)s')"
   ]
  },
  {
   "cell_type": "markdown",
   "id": "4797084f",
   "metadata": {},
   "source": [
    "### 5. What are the two lines that your program must have in order to have logging.debug() send a logging message to a file named programLog.txt? "
   ]
  },
  {
   "cell_type": "markdown",
   "id": "e6373432",
   "metadata": {},
   "source": [
    "### Answer:\n",
    "To be able to send logging messages to a file named programLog.txt with logging.debug(), you must have these two lines at the start of your program:\n",
    "\n",
    "import logging\n",
    "logging.basicConfig(filename='programLog.txt', level=logging.DEBUG, format=' %(asctime)s - %(levelname)s - %(message)s')"
   ]
  },
  {
   "cell_type": "markdown",
   "id": "2eb419b8",
   "metadata": {},
   "source": [
    "### 6. What are the five levels of logging?"
   ]
  },
  {
   "cell_type": "markdown",
   "id": "6b9e36a8",
   "metadata": {},
   "source": [
    "### Answer:\n",
    "five levels of logging \n",
    "1) DEBUG, \n",
    "2) INFO, \n",
    "3) WARNING, \n",
    "4) ERROR, \n",
    "5) CRITICAL"
   ]
  },
  {
   "cell_type": "markdown",
   "id": "560cb7dc",
   "metadata": {},
   "source": [
    "### 7. What line of code would you add to your software to disable all logging messages?"
   ]
  },
  {
   "cell_type": "markdown",
   "id": "8950d48a",
   "metadata": {},
   "source": [
    "### Answer:\n",
    "logging.disable(logging.CRITICAL)"
   ]
  },
  {
   "cell_type": "markdown",
   "id": "99cf9c07",
   "metadata": {},
   "source": [
    "### 8.Why is using logging messages better than using print() to display the same message?"
   ]
  },
  {
   "cell_type": "markdown",
   "id": "ed24a2b8",
   "metadata": {},
   "source": [
    "### Answer:\n",
    "We can disable logging messages without removing the logging function calls. We can selectively disable lower-level logging messages. We can create logging messages. Logging messages provides a timestamp."
   ]
  },
  {
   "cell_type": "markdown",
   "id": "a1a18c7d",
   "metadata": {},
   "source": [
    "### 9. What are the differences between the Step Over, Step In, and Step Out buttons in the debugger?"
   ]
  },
  {
   "cell_type": "markdown",
   "id": "4fac71a1",
   "metadata": {},
   "source": [
    "### Answer:\n",
    "The Step button will move the debugger into a function call. The Over button will quickly execute the function call without stepping into it. The Out button will quickly execute the rest of the code until it steps out of the function it currently is in."
   ]
  },
  {
   "cell_type": "markdown",
   "id": "9e30c1a0",
   "metadata": {},
   "source": [
    "### 10.After you click Continue, when will the debugger stop ?"
   ]
  },
  {
   "cell_type": "markdown",
   "id": "ec64c331",
   "metadata": {},
   "source": [
    "### Answer:\n",
    " Continuing means resuming program execution until your program completes normally. it will only stop when it reaches a breakpoint.\n"
   ]
  },
  {
   "cell_type": "markdown",
   "id": "cf808009",
   "metadata": {},
   "source": [
    "### 11. What is the concept of a breakpoint?"
   ]
  },
  {
   "cell_type": "markdown",
   "id": "16432581",
   "metadata": {},
   "source": [
    "### Answer:\n",
    "A breakpoint is a setting on a line of code that causes the debugger to pause when the program execution reaches the line."
   ]
  }
 ],
 "metadata": {
  "kernelspec": {
   "display_name": "Python 3",
   "language": "python",
   "name": "python3"
  },
  "language_info": {
   "codemirror_mode": {
    "name": "ipython",
    "version": 3
   },
   "file_extension": ".py",
   "mimetype": "text/x-python",
   "name": "python",
   "nbconvert_exporter": "python",
   "pygments_lexer": "ipython3",
   "version": "3.8.8"
  }
 },
 "nbformat": 4,
 "nbformat_minor": 5
}
