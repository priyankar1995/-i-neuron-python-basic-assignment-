{
 "cells": [
  {
   "cell_type": "markdown",
   "id": "581fac00",
   "metadata": {},
   "source": [
    "### 1. To what does a relative path refer?"
   ]
  },
  {
   "cell_type": "markdown",
   "id": "c1b26538",
   "metadata": {},
   "source": [
    "### Answer \n",
    "relative paths are relative to the current working directory. \n",
    "os.path.relpath() method in Python is used to get a relative filepath to the given path either from the current working directory or from the given directory.\n",
    "\n"
   ]
  },
  {
   "cell_type": "markdown",
   "id": "9f3a83e3",
   "metadata": {},
   "source": [
    "### 2. What does an absolute path start with your operating system?"
   ]
  },
  {
   "cell_type": "markdown",
   "id": "1eea01f3",
   "metadata": {},
   "source": [
    "### Answer \n",
    "An absolute path is a path that contains the entire path to the file or directory that we need to access. This path will begin at the home directory of your computer and will end with the file or directory that we wish to access.\n",
    "\n",
    "Absolute paths ensure that Python can find the exact file on computer."
   ]
  },
  {
   "cell_type": "markdown",
   "id": "dfe0f92e",
   "metadata": {},
   "source": [
    "### 3. What do the functions os.getcwd() and os.chdir() do?"
   ]
  },
  {
   "cell_type": "markdown",
   "id": "f30f73f4",
   "metadata": {},
   "source": [
    "### Answer \n",
    "os.getcwd() returns the name of current working directory user is working in\n",
    "\n",
    "os.chdir() changes the current working directory to some other directory"
   ]
  },
  {
   "cell_type": "markdown",
   "id": "34322ff5",
   "metadata": {},
   "source": [
    "### 4. What are the . and .. folders?"
   ]
  },
  {
   "cell_type": "markdown",
   "id": "5a42de21",
   "metadata": {},
   "source": [
    "### Answer \n",
    "The . folder is the current folder\n",
    "\n",
    "and the .. is the parent folder."
   ]
  },
  {
   "cell_type": "markdown",
   "id": "0dc8f831",
   "metadata": {},
   "source": [
    "### 5. In C:\\bacon\\eggs\\spam.txt, which part is the dir name, and which part is the base name?"
   ]
  },
  {
   "cell_type": "markdown",
   "id": "fe1f3b3c",
   "metadata": {},
   "source": [
    "### Answer \n",
    "directory name =  C:\\bacon\\eggs \n",
    "\n",
    "base name = spam.txt"
   ]
  },
  {
   "cell_type": "markdown",
   "id": "90f1d50f",
   "metadata": {},
   "source": [
    "### 6. What are the three “mode” arguments that can be passed to the open() function?"
   ]
  },
  {
   "cell_type": "markdown",
   "id": "d454505b",
   "metadata": {},
   "source": [
    "### Answer \n",
    "three “mode” arguments for open() function are following:\n",
    " \n",
    "1) r: Opens the file in read-only mode. Starts reading from the beginning of the file and is the default mode for the open() function.\n",
    "\n",
    "2) w: Opens in write-only mode. The pointer is placed at the beginning of the file and this will overwrite any existing file with the same name. It will create a new file if one with the same name doesn't exist.\n",
    "\n",
    "3) r+: opens file for reading and writing placing the pointer at the beginning of the file.\n",
    "\n",
    "4) a: append mode"
   ]
  },
  {
   "cell_type": "markdown",
   "id": "d81420a4",
   "metadata": {},
   "source": [
    "### 7. What happens if an existing file is opened in write mode?"
   ]
  },
  {
   "cell_type": "markdown",
   "id": "5eb108f6",
   "metadata": {},
   "source": [
    "### Answer \n",
    "The pointer is placed at the beginning of the file and this will overwrite any existing file with the same name. It will create a new file if one with the same name doesn't exist.\n"
   ]
  },
  {
   "cell_type": "markdown",
   "id": "cba07881",
   "metadata": {},
   "source": [
    "### 8. How do you tell the difference between read() and readlines()?"
   ]
  },
  {
   "cell_type": "markdown",
   "id": "593d55ef",
   "metadata": {},
   "source": [
    "### Answer \n",
    "The read() method returns the file's entire contents as a single string value. The readlines() method returns a list of strings, where each string is a line from the file's contents."
   ]
  },
  {
   "cell_type": "markdown",
   "id": "90689030",
   "metadata": {},
   "source": [
    "### 9. What data structure does a shelf value resemble?"
   ]
  },
  {
   "cell_type": "markdown",
   "id": "d1a3ed0b",
   "metadata": {},
   "source": [
    "### Answer \n",
    "A shelf value resembles a dictionary value; it has keys and values, along with keys() and values() methods that work similarly to the dictionary methods of the same names."
   ]
  }
 ],
 "metadata": {
  "kernelspec": {
   "display_name": "Python 3",
   "language": "python",
   "name": "python3"
  },
  "language_info": {
   "codemirror_mode": {
    "name": "ipython",
    "version": 3
   },
   "file_extension": ".py",
   "mimetype": "text/x-python",
   "name": "python",
   "nbconvert_exporter": "python",
   "pygments_lexer": "ipython3",
   "version": "3.8.8"
  }
 },
 "nbformat": 4,
 "nbformat_minor": 5
}
