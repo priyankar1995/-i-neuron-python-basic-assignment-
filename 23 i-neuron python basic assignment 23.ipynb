{
 "cells": [
  {
   "cell_type": "markdown",
   "id": "e857fce6",
   "metadata": {},
   "source": [
    "### 1. What is the result of the code, and why?\n",
    "def func(a, b=6, c=8):\n",
    "\n",
    "    print(a, b, c)\n",
    "    \n",
    "func(1, 2)\n"
   ]
  },
  {
   "cell_type": "markdown",
   "id": "a21ccf83",
   "metadata": {},
   "source": [
    "### Answer:"
   ]
  },
  {
   "cell_type": "code",
   "execution_count": 1,
   "id": "589193cf",
   "metadata": {},
   "outputs": [],
   "source": [
    "def func(a, b=6, c=8):\n",
    "    print(a, b, c)"
   ]
  },
  {
   "cell_type": "code",
   "execution_count": 2,
   "id": "5ca5e090",
   "metadata": {},
   "outputs": [
    {
     "name": "stdout",
     "output_type": "stream",
     "text": [
      "1 2 8\n"
     ]
    }
   ],
   "source": [
    "func(1, 2)"
   ]
  },
  {
   "cell_type": "markdown",
   "id": "c2d101d5",
   "metadata": {},
   "source": [
    "### Explaination:\n",
    "\n",
    "the function is defined with three parameters - \"a\",\"b\",\"c\". Here \"a\" is a positional arguement and \"b\" and \"c\" are keyword arguements. 'b' and 'c' have default values set, which are 6 and 8. \n",
    "\n",
    "now when the function is called with two parameters 1 and 2. variable 'a' will have the value 1 as it is positional arguement. though variable 'b' is a keyword arguement, and it has a default value it will contain the value 2 as positional arguements have more priority over keyword arguements. finally variable 'c' will contain its default value which is 8 as there are only two parameters passed through the function call which will be contaied in the first two arguments.\n",
    "\n",
    " result of this code => 1 2 8"
   ]
  },
  {
   "cell_type": "markdown",
   "id": "ff210847",
   "metadata": {},
   "source": [
    "### 2. What is the result of this code, and why?\n",
    "def func(a, b, c=5):\n",
    "\n",
    "    print(a, b, c)\n",
    "    \n",
    "func(1, c=3, b=2)"
   ]
  },
  {
   "cell_type": "markdown",
   "id": "5a86891b",
   "metadata": {},
   "source": [
    "### Answer:"
   ]
  },
  {
   "cell_type": "code",
   "execution_count": 30,
   "id": "91133ffe",
   "metadata": {},
   "outputs": [],
   "source": [
    "def func(a, b, c=5):\n",
    "    print(a, b, c)"
   ]
  },
  {
   "cell_type": "code",
   "execution_count": 31,
   "id": "17db3bad",
   "metadata": {},
   "outputs": [
    {
     "name": "stdout",
     "output_type": "stream",
     "text": [
      "1 2 3\n"
     ]
    }
   ],
   "source": [
    "func(1, c=3, b=2)"
   ]
  },
  {
   "cell_type": "markdown",
   "id": "f298492d",
   "metadata": {},
   "source": [
    "### Explaination:\n",
    "\n",
    "here the function func() has three arguments 'a','b','c'. Among which 'a','b' are two positional arguements, and 'c' is a keyword argument whos default value is set to 5.\n",
    "\n",
    "So when the function is being called with three parameters, the values will be assigned as priority of positional arguments are greater than keyword arguements. So even if the keyword arguments are in wrong order in the calling parameters , their values are passed in the positional order of the function definition.\n",
    "\n",
    " result of this code => 1 2 3"
   ]
  },
  {
   "cell_type": "markdown",
   "id": "8f4274ee",
   "metadata": {},
   "source": [
    "### 3. How about this code: what is its result, and why?\n",
    "def func(a, *pargs):\n",
    "\n",
    "    print(a, pargs)\n",
    "    \n",
    "func(1, 2, 3)"
   ]
  },
  {
   "cell_type": "markdown",
   "id": "3ce1839f",
   "metadata": {},
   "source": [
    "### Answer:"
   ]
  },
  {
   "cell_type": "code",
   "execution_count": 32,
   "id": "ce60f9a0",
   "metadata": {},
   "outputs": [],
   "source": [
    "def func(a, *pargs):\n",
    "\n",
    "    print(a, pargs)"
   ]
  },
  {
   "cell_type": "code",
   "execution_count": 33,
   "id": "d5495185",
   "metadata": {},
   "outputs": [
    {
     "name": "stdout",
     "output_type": "stream",
     "text": [
      "1 (2, 3)\n"
     ]
    }
   ],
   "source": [
    "func(1, 2, 3)"
   ]
  },
  {
   "cell_type": "markdown",
   "id": "2ce9356c",
   "metadata": {},
   "source": [
    "### Explaination:\n",
    "\n",
    "Here the function func() is defined with one positional argument and one variable number of positional arguements with a '*' .\n",
    "\n",
    "*pargs will contain varible number of postional arguements inside a tuple after first positional argument is full. \n",
    "\n",
    "So 'a' will contain 1 and '*pargs' will contain a tuple of rest of the parameters which are 2 and 3 in this case.\n",
    "\n",
    "the result of the code is => 1 (2, 3)"
   ]
  },
  {
   "cell_type": "markdown",
   "id": "925e9737",
   "metadata": {},
   "source": [
    "### 4. What does this code print, and why?\n",
    "def func(a, **kargs):\n",
    "\n",
    "    print(a, kargs)\n",
    "    \n",
    "func(a=1, c=3, b=2)"
   ]
  },
  {
   "cell_type": "markdown",
   "id": "22ebebe8",
   "metadata": {},
   "source": [
    "### Answer:"
   ]
  },
  {
   "cell_type": "code",
   "execution_count": 34,
   "id": "52dd63e8",
   "metadata": {},
   "outputs": [],
   "source": [
    "def func(a, **kargs):\n",
    "    print(a, kargs)"
   ]
  },
  {
   "cell_type": "code",
   "execution_count": 35,
   "id": "4c943ccb",
   "metadata": {},
   "outputs": [
    {
     "name": "stdout",
     "output_type": "stream",
     "text": [
      "1 {'c': 3, 'b': 2}\n"
     ]
    }
   ],
   "source": [
    "func(a=1, c=3, b=2)"
   ]
  },
  {
   "cell_type": "markdown",
   "id": "20a26a7d",
   "metadata": {},
   "source": [
    "### Explaination:\n",
    "\n",
    "Here the function func() is defined with one positional argument and one variable number of keyword arguements with a '**' .\n",
    "\n",
    "**kargs will contain variable number of keyword arguements inside a dictionary, in key-value pairs after first positional argument is full. \n",
    "\n",
    "So 'a' will contain 1 and '**kargs' will contain a dictrionary of rest of the parameters which are \n",
    "c = 3 and b = 2 in this case.\n",
    "\n",
    "The code prints => 1 {'c': 3, 'b': 2}"
   ]
  },
  {
   "cell_type": "markdown",
   "id": "048a61d6",
   "metadata": {},
   "source": [
    "### 5. What gets printed by this, and explain?\n",
    "def func(a, b, c=8, d=5): \n",
    "\n",
    "    print(a, b, c, d)\n",
    "    \n",
    "func(1, *(5, 6))"
   ]
  },
  {
   "cell_type": "markdown",
   "id": "944ddd5c",
   "metadata": {},
   "source": [
    "### Answer:"
   ]
  },
  {
   "cell_type": "code",
   "execution_count": 36,
   "id": "5ad913ea",
   "metadata": {},
   "outputs": [],
   "source": [
    "def func(a, b, c=8, d=5): \n",
    "    print(a, b, c, d)"
   ]
  },
  {
   "cell_type": "code",
   "execution_count": 37,
   "id": "0c3a3ed5",
   "metadata": {},
   "outputs": [
    {
     "name": "stdout",
     "output_type": "stream",
     "text": [
      "1 5 6 5\n"
     ]
    }
   ],
   "source": [
    "func(1, *(5, 6))"
   ]
  },
  {
   "cell_type": "markdown",
   "id": "85ff8cd8",
   "metadata": {},
   "source": [
    "### Explaination:\n",
    "\n",
    "Here the function func() is defined with two positional arguments 'a','b' and two keyword arguements 'c','d' with default value 8 and 5.\n",
    "\n",
    "when the function is being called. two parameters is passed the first parameter will be assigned to first positional argument,\n",
    "the second parameter is a tuple with a preceeding '*', which will unzip the values of tuple among the available variables of the function disregarding positional or keyword arguements. though the unzipped values will be assigned to those variables according to their position in function definition. \n",
    "Now the length of the tuple is 2 so '*' can only unzip two values to the remaining arguments which are 'b' and 'c' here. yet another argument with default value remains as no other value is left to be assigned. so it remains unchanged.\n",
    "\n",
    "so 1 5 6 5 will be printed."
   ]
  },
  {
   "cell_type": "markdown",
   "id": "06b2624f",
   "metadata": {},
   "source": [
    "### 6. what is the result of this, and explain?\n",
    "def func(a, b, c): \n",
    "\n",
    "    a = 2 \n",
    "    \n",
    "    b[0] = 'x' \n",
    "    \n",
    "    c['a'] = 'y'\n",
    "    \n",
    "    \n",
    "l=1 \n",
    "\n",
    "m=[1] \n",
    "\n",
    "n={'a':0}\n",
    "\n",
    "func(l, m, n)\n",
    "\n",
    "l, m, n"
   ]
  },
  {
   "cell_type": "markdown",
   "id": "857beefe",
   "metadata": {},
   "source": [
    "### Answer:"
   ]
  },
  {
   "cell_type": "code",
   "execution_count": 38,
   "id": "0ccbbfe7",
   "metadata": {},
   "outputs": [],
   "source": [
    "def func(a, b, c): \n",
    "    a = 2 \n",
    "    b[0] = 'x' \n",
    "    c['a'] = 'y'\n",
    "  "
   ]
  },
  {
   "cell_type": "code",
   "execution_count": 39,
   "id": "c044248a",
   "metadata": {},
   "outputs": [
    {
     "data": {
      "text/plain": [
       "(1, ['x'], {'a': 'y'})"
      ]
     },
     "execution_count": 39,
     "metadata": {},
     "output_type": "execute_result"
    }
   ],
   "source": [
    "l=1 \n",
    "m=[1] \n",
    "n={'a':0}\n",
    "func(l, m, n)\n",
    "l, m, n"
   ]
  },
  {
   "cell_type": "code",
   "execution_count": 40,
   "id": "85362071",
   "metadata": {},
   "outputs": [
    {
     "data": {
      "text/plain": [
       "[3, 4, 5]"
      ]
     },
     "execution_count": 40,
     "metadata": {},
     "output_type": "execute_result"
    }
   ],
   "source": [
    "def x(b):\n",
    "    b[2] = 5\n",
    "\n",
    "c = [3,4,56]\n",
    "x(c)\n",
    "c"
   ]
  },
  {
   "cell_type": "markdown",
   "id": "5018920c",
   "metadata": {},
   "source": [
    "### Explaination:\n",
    "Here the function func() is defined with three positional arguments - a,b,c\n",
    "\n",
    "Three parameters l,m,n are passed in the function call. where, \n",
    "variable l contains an integer value,\n",
    "variable m contains an list\n",
    "variable n contains an dictionary\n",
    "\n",
    "So when the function is called,\n",
    "positional values of l,m,n are passed to a,b,c.\n",
    "\n",
    "Here the list and dict are passed as argument, and those are mutable. Here the lists m and parameter b point to the same list in the memory location where as dictionaries n and c point to the same memory location. Any updates to this list  or dictionary will update in the memory location\n",
    "\n",
    "l = 1 , integer values, immutable, m is list, mutable, n is dict, mutable.\n",
    "\n",
    "output will be = 1,['x'],{'a':'y'}"
   ]
  }
 ],
 "metadata": {
  "kernelspec": {
   "display_name": "Python 3",
   "language": "python",
   "name": "python3"
  },
  "language_info": {
   "codemirror_mode": {
    "name": "ipython",
    "version": 3
   },
   "file_extension": ".py",
   "mimetype": "text/x-python",
   "name": "python",
   "nbconvert_exporter": "python",
   "pygments_lexer": "ipython3",
   "version": "3.8.8"
  }
 },
 "nbformat": 4,
 "nbformat_minor": 5
}
